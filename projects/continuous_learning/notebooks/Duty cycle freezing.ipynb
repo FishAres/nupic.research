{
 "cells": [
  {
   "cell_type": "code",
   "execution_count": 1,
   "metadata": {},
   "outputs": [],
   "source": [
    "%load_ext autoreload\n",
    "%autoreload 2\n",
    "\n",
    "import numpy as np\n",
    "import sys\n",
    "sys.path.append(\"../\")\n",
    "\n",
    "import torch\n",
    "\n",
    "\n",
    "from cont_speech_experiment import ContinuousSpeechExperiment, ClasswiseDataset\n",
    "from nupic.research.support import parse_config\n",
    "from nupic.research.frameworks.continuous_learning.correlation_metrics import register_act, plot_metrics\n",
    "from nupic.research.frameworks.continuous_learning.utils import get_act, dc_grad\n",
    "\n",
    "import matplotlib.pyplot as plt\n",
    "%matplotlib inline"
   ]
  },
  {
   "cell_type": "code",
   "execution_count": 2,
   "metadata": {},
   "outputs": [],
   "source": [
    "def clear_labels(labels):\n",
    "    indices = np.arange(11)\n",
    "    out = np.delete(indices, labels)\n",
    "    return out"
   ]
  },
  {
   "cell_type": "code",
   "execution_count": 4,
   "metadata": {},
   "outputs": [
    {
     "name": "stdout",
     "output_type": "stream",
     "text": [
      "Creating optimizer with learning rate= 0.01\n",
      "Creating optimizer with learning rate= 0.01\n",
      "Creating optimizer with learning rate= 0.01\n",
      "Creating optimizer with learning rate= 0.01\n"
     ]
    },
    {
     "data": {
      "image/png": "[encoded data removed]",
      "text/plain": [
       "<Figure size 432x288 with 1 Axes>"
      ]
     },
     "metadata": {
      "needs_background": "light"
     },
     "output_type": "display_data"
    }
   ],
   "source": [
    "config_file = \"../experiments.cfg\"\n",
    "with open(config_file) as cf:\n",
    "    config_init = parse_config(cf)\n",
    "\n",
    "exp = \"sparseCNN2\"\n",
    "\n",
    "layers_ = [\"cnn2_kwinner\", \"linear1_kwinners\"]\n",
    "layer_type = \"kwinner\"\n",
    "# layer_type = \"dense\"\n",
    "\n",
    "fcs = []\n",
    "\n",
    "cnn_pct_on = (0.25, 0.125) # default\n",
    "cnn_weight_sparsity = (0.3, 0.2) # default\n",
    "\n",
    "cnn_out = 512\n",
    "\n",
    "train_inds = np.arange(1,11).reshape(5,2)\n",
    "pcts = [20, 100]\n",
    "for freeze_pct in np.arange(pcts[0],pcts[1], 20):\n",
    "    config = config_init[exp]\n",
    "    config[\"name\"] = exp\n",
    "    config[\"seed\"] = np.random.randint(0,200)\n",
    "    config[\"cnn_out_channels\"] = (128, cnn_out)\n",
    "    config[\"cnn_percent_on\"] = (cnn_pct_on[0], max(cnn_pct_on[1]/(cnn_out/64), 0.02))\n",
    "    config[\"cnn_weight_sparsity\"] = (cnn_weight_sparsity[0], max(cnn_weight_sparsity[1]/(cnn_out/64), 0.02))\n",
    "                                \n",
    "\n",
    "    if layer_type == \"kwinner\":\n",
    "        config[\"linear_n\"] = (1000,11)\n",
    "        config[\"linear_percent_on\"] = (0.1, 0.1)\n",
    "        config[\"weight_sparsity\"] = (0.1, 0.2)\n",
    "    #     layers_.extend([\"linear2_kwinners\"])\n",
    "\n",
    "\n",
    "    config[\"batch_size\"] = 64    \n",
    "    config[\"boost_strength\"] = 0.0\n",
    "    config[\"boost_strength_factor\"] = 0.0\n",
    "    config[\"duty_cycle_period\"] = 1000\n",
    "\n",
    "    experiment = ContinuousSpeechExperiment(config)\n",
    "\n",
    "    if layer_type == \"dense\":\n",
    "        experiment.model.add_module(\"output\", torch.nn.Linear(1000, 11).cuda())\n",
    "\n",
    "    freeze_params=layers_\n",
    "\n",
    "    for j in range(len(train_inds)):\n",
    "\n",
    "        if j == 0:\n",
    "            experiment.train(1,train_inds[j],\n",
    "                            freeze_output=True,\n",
    "                            layer_type=layer_type,\n",
    "                            output_indices=clear_labels(train_inds[j]))\n",
    "        else:\n",
    "            experiment.train(2,train_inds[j],freeze_params=freeze_params,\n",
    "                            freeze_fun=dc_grad,\n",
    "                            freeze_pct=freeze_pct,\n",
    "                            freeze_output=True,\n",
    "                            layer_type=layer_type,\n",
    "                            output_indices=clear_labels(train_inds[j]))\n",
    "\n",
    "    fc = experiment.get_forgetting_curve()\n",
    "    fcs.append(fc)\n",
    "\n",
    "    plt.plot(fc,'o', alpha=0.6);"
   ]
  },
  {
   "cell_type": "code",
   "execution_count": 96,
   "metadata": {},
   "outputs": [],
   "source": [
    "np.save(\"../saved_data/size{}_boost{}_dc_pct{}:{}_{}_dcp{}.pdf\".format(config[\"cnn_out_channels\"][1],\n",
    "                                                           int(config[\"boost_strength\"]),\n",
    "                                                           layer_type,\n",
    "                                                           pcts[0],pcts[1],\n",
    "                                                           int(config[\"duty_cycle_period\"])), fcs)"
   ]
  },
  {
   "cell_type": "code",
   "execution_count": 8,
   "metadata": {},
   "outputs": [
    {
     "data": {
      "image/png": "[encoded data removed]",
      "text/plain": [
       "<Figure size 432x288 with 1 Axes>"
      ]
     },
     "metadata": {
      "needs_background": "light"
     },
     "output_type": "display_data"
    }
   ],
   "source": [
    "[plt.plot(np.nanmean(k, axis=1), 'o', alpha=0.4) for k in fcs];\n",
    "\n",
    "# plt.legend(np.arange(50,100, 5))"
   ]
  },
  {
   "cell_type": "code",
   "execution_count": 6,
   "metadata": {},
   "outputs": [],
   "source": [
    "from sklearn.linear_model import LinearRegression\n",
    "def linear_fit(fcs):\n",
    "    cs = []\n",
    "    ics = []\n",
    "    lr = LinearRegression()\n",
    "    x = np.arange(5).reshape(-1,1)\n",
    "    for ind in range(len(fcs)):\n",
    "        lr.fit(x, np.nanmean(fcs[ind], axis=1))\n",
    "        c = lr.coef_.mean()\n",
    "        ic = lr.intercept_.mean()\n",
    "        \n",
    "        cs.append(c)\n",
    "        ics.append(ic)\n",
    "        \n",
    "    return np.array(cs), np.array(ics)"
   ]
  },
  {
   "cell_type": "code",
   "execution_count": 7,
   "metadata": {},
   "outputs": [
    {
     "ename": "ValueError",
     "evalue": "x and y must have same first dimension, but have shapes (10,) and (4,)",
     "output_type": "error",
     "traceback": [
      "\u001b[0;31m---------------------------------------------------------------------------\u001b[0m",
      "\u001b[0;31mValueError\u001b[0m                                Traceback (most recent call last)",
      "\u001b[0;32m<ipython-input-7-b550636c973e>\u001b[0m in \u001b[0;36m<module>\u001b[0;34m\u001b[0m\n\u001b[1;32m      1\u001b[0m \u001b[0ma\u001b[0m\u001b[0;34m,\u001b[0m \u001b[0mb\u001b[0m \u001b[0;34m=\u001b[0m \u001b[0mlinear_fit\u001b[0m\u001b[0;34m(\u001b[0m\u001b[0mfcs\u001b[0m\u001b[0;34m)\u001b[0m\u001b[0;34m\u001b[0m\u001b[0;34m\u001b[0m\u001b[0m\n\u001b[0;32m----> 2\u001b[0;31m \u001b[0mplt\u001b[0m\u001b[0;34m.\u001b[0m\u001b[0mplot\u001b[0m\u001b[0;34m(\u001b[0m\u001b[0mnp\u001b[0m\u001b[0;34m.\u001b[0m\u001b[0marange\u001b[0m\u001b[0;34m(\u001b[0m\u001b[0;36m50\u001b[0m\u001b[0;34m,\u001b[0m\u001b[0;36m100\u001b[0m\u001b[0;34m,\u001b[0m \u001b[0;36m5\u001b[0m\u001b[0;34m)\u001b[0m\u001b[0;34m,\u001b[0m \u001b[0ma\u001b[0m\u001b[0;34m)\u001b[0m\u001b[0;34m\u001b[0m\u001b[0;34m\u001b[0m\u001b[0m\n\u001b[0m\u001b[1;32m      3\u001b[0m \u001b[0mplt\u001b[0m\u001b[0;34m.\u001b[0m\u001b[0mxlabel\u001b[0m\u001b[0;34m(\u001b[0m\u001b[0;34m\"dc freeze pct\"\u001b[0m\u001b[0;34m)\u001b[0m\u001b[0;34m\u001b[0m\u001b[0;34m\u001b[0m\u001b[0m\n\u001b[1;32m      4\u001b[0m \u001b[0mplt\u001b[0m\u001b[0;34m.\u001b[0m\u001b[0mylabel\u001b[0m\u001b[0;34m(\u001b[0m\u001b[0;34m\"slope of linear fit\"\u001b[0m\u001b[0;34m)\u001b[0m\u001b[0;34m\u001b[0m\u001b[0;34m\u001b[0m\u001b[0m\n\u001b[1;32m      5\u001b[0m plt.savefig(\"../plots/duty_cycle_freezing_period_{}_layer_dcp{}_128_{}.pdf\".format(\n",
      "\u001b[0;32m~/miniconda3/envs/nupic.research/lib/python3.7/site-packages/matplotlib/pyplot.py\u001b[0m in \u001b[0;36mplot\u001b[0;34m(scalex, scaley, data, *args, **kwargs)\u001b[0m\n\u001b[1;32m   2794\u001b[0m     return gca().plot(\n\u001b[1;32m   2795\u001b[0m         *args, scalex=scalex, scaley=scaley, **({\"data\": data} if data\n\u001b[0;32m-> 2796\u001b[0;31m         is not None else {}), **kwargs)\n\u001b[0m\u001b[1;32m   2797\u001b[0m \u001b[0;34m\u001b[0m\u001b[0m\n\u001b[1;32m   2798\u001b[0m \u001b[0;34m\u001b[0m\u001b[0m\n",
      "\u001b[0;32m~/miniconda3/envs/nupic.research/lib/python3.7/site-packages/matplotlib/axes/_axes.py\u001b[0m in \u001b[0;36mplot\u001b[0;34m(self, scalex, scaley, data, *args, **kwargs)\u001b[0m\n\u001b[1;32m   1663\u001b[0m         \"\"\"\n\u001b[1;32m   1664\u001b[0m         \u001b[0mkwargs\u001b[0m \u001b[0;34m=\u001b[0m \u001b[0mcbook\u001b[0m\u001b[0;34m.\u001b[0m\u001b[0mnormalize_kwargs\u001b[0m\u001b[0;34m(\u001b[0m\u001b[0mkwargs\u001b[0m\u001b[0;34m,\u001b[0m \u001b[0mmlines\u001b[0m\u001b[0;34m.\u001b[0m\u001b[0mLine2D\u001b[0m\u001b[0;34m.\u001b[0m\u001b[0m_alias_map\u001b[0m\u001b[0;34m)\u001b[0m\u001b[0;34m\u001b[0m\u001b[0;34m\u001b[0m\u001b[0m\n\u001b[0;32m-> 1665\u001b[0;31m         \u001b[0mlines\u001b[0m \u001b[0;34m=\u001b[0m \u001b[0;34m[\u001b[0m\u001b[0;34m*\u001b[0m\u001b[0mself\u001b[0m\u001b[0;34m.\u001b[0m\u001b[0m_get_lines\u001b[0m\u001b[0;34m(\u001b[0m\u001b[0;34m*\u001b[0m\u001b[0margs\u001b[0m\u001b[0;34m,\u001b[0m \u001b[0mdata\u001b[0m\u001b[0;34m=\u001b[0m\u001b[0mdata\u001b[0m\u001b[0;34m,\u001b[0m \u001b[0;34m**\u001b[0m\u001b[0mkwargs\u001b[0m\u001b[0;34m)\u001b[0m\u001b[0;34m]\u001b[0m\u001b[0;34m\u001b[0m\u001b[0;34m\u001b[0m\u001b[0m\n\u001b[0m\u001b[1;32m   1666\u001b[0m         \u001b[0;32mfor\u001b[0m \u001b[0mline\u001b[0m \u001b[0;32min\u001b[0m \u001b[0mlines\u001b[0m\u001b[0;34m:\u001b[0m\u001b[0;34m\u001b[0m\u001b[0;34m\u001b[0m\u001b[0m\n\u001b[1;32m   1667\u001b[0m             \u001b[0mself\u001b[0m\u001b[0;34m.\u001b[0m\u001b[0madd_line\u001b[0m\u001b[0;34m(\u001b[0m\u001b[0mline\u001b[0m\u001b[0;34m)\u001b[0m\u001b[0;34m\u001b[0m\u001b[0;34m\u001b[0m\u001b[0m\n",
      "\u001b[0;32m~/miniconda3/envs/nupic.research/lib/python3.7/site-packages/matplotlib/axes/_base.py\u001b[0m in \u001b[0;36m__call__\u001b[0;34m(self, *args, **kwargs)\u001b[0m\n\u001b[1;32m    223\u001b[0m                 \u001b[0mthis\u001b[0m \u001b[0;34m+=\u001b[0m \u001b[0margs\u001b[0m\u001b[0;34m[\u001b[0m\u001b[0;36m0\u001b[0m\u001b[0;34m]\u001b[0m\u001b[0;34m,\u001b[0m\u001b[0;34m\u001b[0m\u001b[0;34m\u001b[0m\u001b[0m\n\u001b[1;32m    224\u001b[0m                 \u001b[0margs\u001b[0m \u001b[0;34m=\u001b[0m \u001b[0margs\u001b[0m\u001b[0;34m[\u001b[0m\u001b[0;36m1\u001b[0m\u001b[0;34m:\u001b[0m\u001b[0;34m]\u001b[0m\u001b[0;34m\u001b[0m\u001b[0;34m\u001b[0m\u001b[0m\n\u001b[0;32m--> 225\u001b[0;31m             \u001b[0;32myield\u001b[0m \u001b[0;32mfrom\u001b[0m \u001b[0mself\u001b[0m\u001b[0;34m.\u001b[0m\u001b[0m_plot_args\u001b[0m\u001b[0;34m(\u001b[0m\u001b[0mthis\u001b[0m\u001b[0;34m,\u001b[0m \u001b[0mkwargs\u001b[0m\u001b[0;34m)\u001b[0m\u001b[0;34m\u001b[0m\u001b[0;34m\u001b[0m\u001b[0m\n\u001b[0m\u001b[1;32m    226\u001b[0m \u001b[0;34m\u001b[0m\u001b[0m\n\u001b[1;32m    227\u001b[0m     \u001b[0;32mdef\u001b[0m \u001b[0mget_next_color\u001b[0m\u001b[0;34m(\u001b[0m\u001b[0mself\u001b[0m\u001b[0;34m)\u001b[0m\u001b[0;34m:\u001b[0m\u001b[0;34m\u001b[0m\u001b[0;34m\u001b[0m\u001b[0m\n",
      "\u001b[0;32m~/miniconda3/envs/nupic.research/lib/python3.7/site-packages/matplotlib/axes/_base.py\u001b[0m in \u001b[0;36m_plot_args\u001b[0;34m(self, tup, kwargs)\u001b[0m\n\u001b[1;32m    389\u001b[0m             \u001b[0mx\u001b[0m\u001b[0;34m,\u001b[0m \u001b[0my\u001b[0m \u001b[0;34m=\u001b[0m \u001b[0mindex_of\u001b[0m\u001b[0;34m(\u001b[0m\u001b[0mtup\u001b[0m\u001b[0;34m[\u001b[0m\u001b[0;34m-\u001b[0m\u001b[0;36m1\u001b[0m\u001b[0;34m]\u001b[0m\u001b[0;34m)\u001b[0m\u001b[0;34m\u001b[0m\u001b[0;34m\u001b[0m\u001b[0m\n\u001b[1;32m    390\u001b[0m \u001b[0;34m\u001b[0m\u001b[0m\n\u001b[0;32m--> 391\u001b[0;31m         \u001b[0mx\u001b[0m\u001b[0;34m,\u001b[0m \u001b[0my\u001b[0m \u001b[0;34m=\u001b[0m \u001b[0mself\u001b[0m\u001b[0;34m.\u001b[0m\u001b[0m_xy_from_xy\u001b[0m\u001b[0;34m(\u001b[0m\u001b[0mx\u001b[0m\u001b[0;34m,\u001b[0m \u001b[0my\u001b[0m\u001b[0;34m)\u001b[0m\u001b[0;34m\u001b[0m\u001b[0;34m\u001b[0m\u001b[0m\n\u001b[0m\u001b[1;32m    392\u001b[0m \u001b[0;34m\u001b[0m\u001b[0m\n\u001b[1;32m    393\u001b[0m         \u001b[0;32mif\u001b[0m \u001b[0mself\u001b[0m\u001b[0;34m.\u001b[0m\u001b[0mcommand\u001b[0m \u001b[0;34m==\u001b[0m \u001b[0;34m'plot'\u001b[0m\u001b[0;34m:\u001b[0m\u001b[0;34m\u001b[0m\u001b[0;34m\u001b[0m\u001b[0m\n",
      "\u001b[0;32m~/miniconda3/envs/nupic.research/lib/python3.7/site-packages/matplotlib/axes/_base.py\u001b[0m in \u001b[0;36m_xy_from_xy\u001b[0;34m(self, x, y)\u001b[0m\n\u001b[1;32m    268\u001b[0m         \u001b[0;32mif\u001b[0m \u001b[0mx\u001b[0m\u001b[0;34m.\u001b[0m\u001b[0mshape\u001b[0m\u001b[0;34m[\u001b[0m\u001b[0;36m0\u001b[0m\u001b[0;34m]\u001b[0m \u001b[0;34m!=\u001b[0m \u001b[0my\u001b[0m\u001b[0;34m.\u001b[0m\u001b[0mshape\u001b[0m\u001b[0;34m[\u001b[0m\u001b[0;36m0\u001b[0m\u001b[0;34m]\u001b[0m\u001b[0;34m:\u001b[0m\u001b[0;34m\u001b[0m\u001b[0;34m\u001b[0m\u001b[0m\n\u001b[1;32m    269\u001b[0m             raise ValueError(\"x and y must have same first dimension, but \"\n\u001b[0;32m--> 270\u001b[0;31m                              \"have shapes {} and {}\".format(x.shape, y.shape))\n\u001b[0m\u001b[1;32m    271\u001b[0m         \u001b[0;32mif\u001b[0m \u001b[0mx\u001b[0m\u001b[0;34m.\u001b[0m\u001b[0mndim\u001b[0m \u001b[0;34m>\u001b[0m \u001b[0;36m2\u001b[0m \u001b[0;32mor\u001b[0m \u001b[0my\u001b[0m\u001b[0;34m.\u001b[0m\u001b[0mndim\u001b[0m \u001b[0;34m>\u001b[0m \u001b[0;36m2\u001b[0m\u001b[0;34m:\u001b[0m\u001b[0;34m\u001b[0m\u001b[0;34m\u001b[0m\u001b[0m\n\u001b[1;32m    272\u001b[0m             raise ValueError(\"x and y can be no greater than 2-D, but have \"\n",
      "\u001b[0;31mValueError\u001b[0m: x and y must have same first dimension, but have shapes (10,) and (4,)"
     ]
    },
    {
     "data": {
      "image/png": "[encoded data removed]",
      "text/plain": [
       "<Figure size 432x288 with 1 Axes>"
      ]
     },
     "metadata": {
      "needs_background": "light"
     },
     "output_type": "display_data"
    }
   ],
   "source": [
    "a, b = linear_fit(fcs)\n",
    "plt.plot(np.arange(50,100, 5), a)\n",
    "plt.xlabel(\"dc freeze pct\")\n",
    "plt.ylabel(\"slope of linear fit\")\n",
    "plt.savefig(\"../plots/duty_cycle_freezing_period_{}_layer_dcp{}_128_{}.pdf\".format(\n",
    "                                                                            layer_type,\n",
    "                                                                            config[\"duty_cycle_period\"],\n",
    "                                                                            config[\"cnn_out_channels\"][1])\n",
    "           )"
   ]
  },
  {
   "cell_type": "code",
   "execution_count": 60,
   "metadata": {},
   "outputs": [
    {
     "data": {
      "text/plain": [
       "(5, 10)"
      ]
     },
     "execution_count": 60,
     "metadata": {},
     "output_type": "execute_result"
    }
   ],
   "source": [
    "yn.shape"
   ]
  },
  {
   "cell_type": "code",
   "execution_count": 95,
   "metadata": {},
   "outputs": [
    {
     "data": {
      "text/plain": [
       "<matplotlib.image.AxesImage at 0x7f94f61eff50>"
      ]
     },
     "execution_count": 95,
     "metadata": {},
     "output_type": "execute_result"
    },
    {
     "data": {
      "image/png": "[encoded data removed]",
      "text/plain": [
       "<Figure size 432x288 with 1 Axes>"
      ]
     },
     "metadata": {
      "needs_background": "light"
     },
     "output_type": "display_data"
    }
   ],
   "source": [
    "plt.imshow(fc)"
   ]
  },
  {
   "cell_type": "code",
   "execution_count": 202,
   "metadata": {},
   "outputs": [
    {
     "name": "stdout",
     "output_type": "stream",
     "text": [
      "Creating optimizer with learning rate= 0.01\n"
     ]
    }
   ],
   "source": [
    "config_file = \"../experiments.cfg\"\n",
    "with open(config_file) as cf:\n",
    "    config_init = parse_config(cf)\n",
    "    \n",
    "train_inds = np.arange(1,11).reshape(5,2)\n",
    "\n",
    "exp = \"denseCNN2\"\n",
    "config = config_init[exp]\n",
    "config[\"name\"] = exp\n",
    "config[\"seed\"] = np.random.randint(0,200)\n",
    "config[\"cnn_out_channels\"] = (256, 256)\n",
    "layer_type=\"dense\"\n",
    "\n",
    "\n",
    "experiment = ContinuousSpeechExperiment(config)\n",
    "experiment.model.add_module(\"output\", torch.nn.Linear(1000, 11).cuda())\n",
    "\n",
    "\n",
    "for j in range(len(train_inds)):\n",
    "\n",
    "        experiment.train(1,train_inds[j],\n",
    "                        freeze_output=True,\n",
    "                        layer_type=layer_type,\n",
    "                        output_indices=clear_labels(train_inds[j]))"
   ]
  },
  {
   "cell_type": "code",
   "execution_count": 200,
   "metadata": {},
   "outputs": [],
   "source": [
    "experiment.model.add_module(\"output\", torch.nn.Linear(1000, 11))"
   ]
  },
  {
   "cell_type": "code",
   "execution_count": 203,
   "metadata": {},
   "outputs": [
    {
     "data": {
      "image/png": "[encoded data removed]",
      "text/plain": [
       "<Figure size 432x288 with 1 Axes>"
      ]
     },
     "metadata": {
      "needs_background": "light"
     },
     "output_type": "display_data"
    }
   ],
   "source": [
    "fc = experiment.get_forgetting_curve()\n",
    "np.save(\"../saved_data/size{}_dense.pdf\".format(config[\"cnn_out_channels\"][0],\n",
    "                                                           ), fc)\n",
    "\n",
    "plt.plot(fc,'o', alpha=0.6);"
   ]
  },
  {
   "cell_type": "code",
   "execution_count": 6,
   "metadata": {},
   "outputs": [],
   "source": [
    "layers_.extend([\"linear2_kwinners\"])"
   ]
  },
  {
   "cell_type": "code",
   "execution_count": 19,
   "metadata": {},
   "outputs": [],
   "source": [
    "a = torch.squeeze(experiment.get_duty_cycles()[\"cnn1_kwinner\"])"
   ]
  },
  {
   "cell_type": "code",
   "execution_count": 28,
   "metadata": {},
   "outputs": [],
   "source": [
    "inds = [10, 122, 436]\n",
    "a[inds] = 0.0\n",
    "b = torch.squeeze(a[a.nonzero()])"
   ]
  },
  {
   "cell_type": "code",
   "execution_count": 42,
   "metadata": {},
   "outputs": [],
   "source": [
    "# def dc_grad(model, kwinner_modules, duty_cycles, frozen_dcs=None, pct=90):\n",
    "model = experiment.model\n",
    "duty_cycles = experiment.get_duty_cycles()\n",
    "kwinner_modules = [\"cnn1_kwinner\"]\n",
    "frozen_dcs = [8,23,234]\n",
    "pct = 90\n",
    "\n",
    "all_modules = list(model.named_children())\n",
    "# module_dict = {k[0]: k[1] for k in all_modules}\n",
    "\n",
    "for module_name in kwinner_modules:\n",
    "    if \"kwinner\" not in module_name:\n",
    "        print(module_name)\n",
    "        raise RuntimeError(\"Not a k-winner module\")\n",
    "    else:\n",
    "        # module = module_dict[module_name]\n",
    "        dc = torch.squeeze(duty_cycles[module_name])\n",
    "        if frozen_dcs is not None:\n",
    "            dc[frozen_dcs] = 0.0\n",
    "\n",
    "        k = int((1 - pct / 100) * len(dc))\n",
    "        _, inds = torch.topk(dc, k)\n",
    "\n",
    "    module_num = module_name.split(\"_\")[0][-1]\n",
    "    module_type = module_name.split(\"_\")[0][:-1]\n",
    "\n",
    "    # find the module corresponding to the kwinners\n",
    "    if module_type == \"cnn\":\n",
    "        module_index = int(np.where([\"cnn{}_cnn\".format(module_num) in k[0]\n",
    "                                     for k in all_modules])[0])\n",
    "    elif module_type == \"linear\":\n",
    "        module_index = int(np.where([\"linear{}\".format(module_num) in k[0]\n",
    "                                     for k in all_modules])[0][0])\n",
    "\n",
    "    weight_grads, bias_grads = [k.grad\n",
    "                                for k in all_modules[module_index][1].parameters()]\n",
    "\n"
   ]
  },
  {
   "cell_type": "code",
   "execution_count": 32,
   "metadata": {},
   "outputs": [],
   "source": [
    "duty_cycles = experiment.get_duty_cycles()[\"cnn1_kwinner\"]\n",
    "fdcs = torch.squeeze(duty_cycles)"
   ]
  },
  {
   "cell_type": "code",
   "execution_count": 56,
   "metadata": {},
   "outputs": [
    {
     "data": {
      "text/plain": [
       "tensor([[-1.4099e-04,  5.0257e-06, -3.2329e-04,  ..., -2.9835e-04,\n",
       "         -4.4993e-04, -9.5940e-04],\n",
       "        [ 3.8266e-04,  2.7763e-04,  2.8247e-04,  ...,  1.1724e-06,\n",
       "         -3.3919e-04,  2.5748e-05],\n",
       "        [ 4.4514e-04, -8.4291e-05,  2.7577e-04,  ..., -5.4569e-05,\n",
       "         -1.0449e-04, -1.4468e-04],\n",
       "        ...,\n",
       "        [ 3.1372e-04,  3.7986e-04,  1.2278e-04,  ..., -5.5801e-06,\n",
       "          2.2010e-04,  3.7797e-04],\n",
       "        [ 0.0000e+00,  0.0000e+00,  0.0000e+00,  ...,  0.0000e+00,\n",
       "          0.0000e+00,  0.0000e+00],\n",
       "        [ 3.0155e-04,  4.9811e-04, -1.3289e-03,  ...,  2.2856e-04,\n",
       "          1.2035e-04,  3.4209e-05]], device='cuda:0')"
      ]
     },
     "execution_count": 56,
     "metadata": {},
     "output_type": "execute_result"
    }
   ],
   "source": [
    "experiment.frozen_inds"
   ]
  },
  {
   "cell_type": "code",
   "execution_count": 13,
   "metadata": {},
   "outputs": [
    {
     "data": {
      "text/plain": [
       "(5, 11)"
      ]
     },
     "execution_count": 13,
     "metadata": {},
     "output_type": "execute_result"
    }
   ],
   "source": [
    "fc.shape"
   ]
  },
  {
   "cell_type": "code",
   "execution_count": 58,
   "metadata": {},
   "outputs": [
    {
     "data": {
      "text/plain": [
       "2"
      ]
     },
     "execution_count": 58,
     "metadata": {},
     "output_type": "execute_result"
    }
   ],
   "source": [
    "j"
   ]
  },
  {
   "cell_type": "code",
   "execution_count": null,
   "metadata": {},
   "outputs": [],
   "source": []
  }
 ],
 "metadata": {
  "kernelspec": {
   "display_name": "Python 3",
   "language": "python",
   "name": "python3"
  },
  "language_info": {
   "codemirror_mode": {
    "name": "ipython",
    "version": 3
   },
   "file_extension": ".py",
   "mimetype": "text/x-python",
   "name": "python",
   "nbconvert_exporter": "python",
   "pygments_lexer": "ipython3",
   "version": "3.7.6"
  }
 },
 "nbformat": 4,
 "nbformat_minor": 4
}
