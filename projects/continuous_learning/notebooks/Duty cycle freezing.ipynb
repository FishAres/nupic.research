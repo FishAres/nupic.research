{
 "cells": [
  {
   "cell_type": "code",
   "execution_count": 3,
   "metadata": {},
   "outputs": [
    {
     "name": "stdout",
     "output_type": "stream",
     "text": [
      "The autoreload extension is already loaded. To reload it, use:\n",
      "  %reload_ext autoreload\n"
     ]
    }
   ],
   "source": [
    "%load_ext autoreload\n",
    "%autoreload 2\n",
    "\n",
    "import numpy as np\n",
    "import sys\n",
    "sys.path.append(\"../\")\n",
    "\n",
    "import torch\n",
    "\n",
    "\n",
    "from cont_speech_experiment import ContinuousSpeechExperiment, ClasswiseDataset\n",
    "from nupic.research.support import parse_config\n",
    "from nupic.research.frameworks.continuous_learning.correlation_metrics import register_act, plot_metrics\n",
    "from nupic.research.frameworks.continuous_learning.utils import get_act, dc_grad\n",
    "\n",
    "import matplotlib.pyplot as plt\n",
    "%matplotlib inline"
   ]
  },
  {
   "cell_type": "code",
   "execution_count": 4,
   "metadata": {},
   "outputs": [],
   "source": [
    "def clear_labels(labels):\n",
    "    indices = np.arange(11)\n",
    "    out = np.delete(indices, labels)\n",
    "    return out"
   ]
  },
  {
   "cell_type": "code",
   "execution_count": 5,
   "metadata": {},
   "outputs": [
    {
     "name": "stdout",
     "output_type": "stream",
     "text": [
      "0.0\n",
      "0.0\n",
      "Creating optimizer with learning rate= 0.01\n",
      "0.0\n",
      "0.0\n",
      "Creating optimizer with learning rate= 0.01\n",
      "0.0\n",
      "0.0\n",
      "Creating optimizer with learning rate= 0.01\n",
      "0.0\n",
      "0.0\n",
      "Creating optimizer with learning rate= 0.01\n",
      "0.0\n",
      "0.0\n",
      "Creating optimizer with learning rate= 0.01\n",
      "0.0\n",
      "0.0\n",
      "Creating optimizer with learning rate= 0.01\n",
      "0.0\n",
      "0.0\n",
      "Creating optimizer with learning rate= 0.01\n"
     ]
    },
    {
     "data": {
      "image/png": "[encoded data removed]",
      "text/plain": [
       "<Figure size 432x288 with 1 Axes>"
      ]
     },
     "metadata": {
      "needs_background": "light"
     },
     "output_type": "display_data"
    }
   ],
   "source": [
    "config_file = \"../experiments.cfg\"\n",
    "with open(config_file) as cf:\n",
    "    config_init = parse_config(cf)\n",
    "\n",
    "exp = \"sparseCNN2\"\n",
    "\n",
    "layers_ = [\"cnn2_kwinner\", \"linear1_kwinners\"]\n",
    "layer_type = \"kwinner\"\n",
    "# layer_type = \"dense\"\n",
    "\n",
    "fcs = []\n",
    "aucs = []\n",
    "\n",
    "cnn_pct_on = (0.25, 0.125) # default\n",
    "cnn_weight_sparsity = (0.3, 0.2) # default\n",
    "\n",
    "cnn_out = 512\n",
    "\n",
    "train_inds = np.arange(1,11).reshape(5,2)\n",
    "pcts = [5, 40]\n",
    "for freeze_pct in np.arange(pcts[0],pcts[1], 5):\n",
    "    config = config_init[exp]\n",
    "    config[\"name\"] = exp\n",
    "    config[\"seed\"] = np.random.randint(0,200)\n",
    "    config[\"cnn_out_channels\"] = (128, cnn_out)\n",
    "    config[\"cnn_percent_on\"] = (cnn_pct_on[0], max(cnn_pct_on[1]/(cnn_out/64), 0.02))\n",
    "    config[\"cnn_weight_sparsity\"] = (cnn_weight_sparsity[0], max(cnn_weight_sparsity[1]/(cnn_out/64), 0.02))\n",
    "                                \n",
    "\n",
    "    if layer_type == \"kwinner\":\n",
    "        config[\"linear_n\"] = (1000,11)\n",
    "        config[\"linear_percent_on\"] = (0.1, 0.1)\n",
    "        config[\"weight_sparsity\"] = (0.1, 0.2)\n",
    "    #     layers_.extend([\"linear2_kwinners\"])\n",
    "\n",
    "\n",
    "    config[\"batch_size\"] = 64    \n",
    "    config[\"boost_strength\"] = 0.0\n",
    "    config[\"boost_strength_factor\"] = 0.0\n",
    "    config[\"duty_cycle_period\"] = 1000\n",
    "\n",
    "    experiment = ContinuousSpeechExperiment(config)\n",
    "\n",
    "    if layer_type == \"dense\":\n",
    "        experiment.model.add_module(\"output\", torch.nn.Linear(1000, 11).cuda())\n",
    "\n",
    "    freeze_params=layers_\n",
    "\n",
    "    for j in range(len(train_inds)):\n",
    "\n",
    "        if j == 0:\n",
    "            experiment.train(1,train_inds[j],\n",
    "                            freeze_output=True,\n",
    "                            layer_type=layer_type,\n",
    "                            output_indices=clear_labels(train_inds[j]))\n",
    "        else:\n",
    "            experiment.train(2,train_inds[j],freeze_params=freeze_params,\n",
    "                            freeze_fun=dc_grad,\n",
    "                            freeze_pct=freeze_pct,\n",
    "                            freeze_output=True,\n",
    "                            layer_type=layer_type,\n",
    "                            output_indices=clear_labels(train_inds[j]))\n",
    "\n",
    "    fc = experiment.get_forgetting_curve()\n",
    "    fcs.append(fc)\n",
    "    aucs.append(experiment.get_auc())\n",
    "\n",
    "    plt.plot(fc,'o', alpha=0.6);"
   ]
  },
  {
   "cell_type": "code",
   "execution_count": 6,
   "metadata": {},
   "outputs": [
    {
     "data": {
      "text/plain": [
       "[133.71333333333337,\n",
       " 122.89883333333336,\n",
       " 115.27033333333333,\n",
       " 132.30458333333334,\n",
       " 107.40891666666664,\n",
       " 114.73849999999999,\n",
       " 102.40725]"
      ]
     },
     "execution_count": 6,
     "metadata": {},
     "output_type": "execute_result"
    }
   ],
   "source": [
    "aucs"
   ]
  },
  {
   "cell_type": "code",
   "execution_count": 7,
   "metadata": {},
   "outputs": [],
   "source": [
    "np.save(\"../saved_data/size{}_boost{}_dc_pct{}:{}_{}_dcp{}.pdf\".format(config[\"cnn_out_channels\"][1],\n",
    "                                                           int(config[\"boost_strength\"]),\n",
    "                                                           layer_type,\n",
    "                                                           pcts[0],pcts[1],\n",
    "                                                           int(config[\"duty_cycle_period\"])), fcs)"
   ]
  },
  {
   "cell_type": "code",
   "execution_count": 8,
   "metadata": {},
   "outputs": [
    {
     "data": {
      "image/png": "[encoded data removed]",
      "text/plain": [
       "<Figure size 432x288 with 1 Axes>"
      ]
     },
     "metadata": {
      "needs_background": "light"
     },
     "output_type": "display_data"
    }
   ],
   "source": [
    "[plt.plot(np.nanmean(k, axis=1), 'o', alpha=0.4) for k in fcs];\n",
    "\n",
    "# plt.legend(np.arange(50,100, 5))"
   ]
  },
  {
   "cell_type": "code",
   "execution_count": 6,
   "metadata": {},
   "outputs": [],
   "source": [
    "from sklearn.linear_model import LinearRegression\n",
    "def linear_fit(fcs):\n",
    "    cs = []\n",
    "    ics = []\n",
    "    lr = LinearRegression()\n",
    "    x = np.arange(5).reshape(-1,1)\n",
    "    for ind in range(len(fcs)):\n",
    "        lr.fit(x, np.nanmean(fcs[ind], axis=1))\n",
    "        c = lr.coef_.mean()\n",
    "        ic = lr.intercept_.mean()\n",
    "        \n",
    "        cs.append(c)\n",
    "        ics.append(ic)\n",
    "        \n",
    "    return np.array(cs), np.array(ics)"
   ]
  },
  {
   "cell_type": "code",
   "execution_count": 202,
   "metadata": {},
   "outputs": [
    {
     "name": "stdout",
     "output_type": "stream",
     "text": [
      "Creating optimizer with learning rate= 0.01\n"
     ]
    }
   ],
   "source": [
    "config_file = \"../experiments.cfg\"\n",
    "with open(config_file) as cf:\n",
    "    config_init = parse_config(cf)\n",
    "    \n",
    "train_inds = np.arange(1,11).reshape(5,2)\n",
    "\n",
    "exp = \"denseCNN2\"\n",
    "config = config_init[exp]\n",
    "config[\"name\"] = exp\n",
    "config[\"seed\"] = np.random.randint(0,200)\n",
    "config[\"cnn_out_channels\"] = (256, 256)\n",
    "layer_type=\"dense\"\n",
    "\n",
    "\n",
    "experiment = ContinuousSpeechExperiment(config)\n",
    "experiment.model.add_module(\"output\", torch.nn.Linear(1000, 11).cuda())\n",
    "\n",
    "\n",
    "for j in range(len(train_inds)):\n",
    "\n",
    "        experiment.train(1,train_inds[j],\n",
    "                        freeze_output=True,\n",
    "                        layer_type=layer_type,\n",
    "                        output_indices=clear_labels(train_inds[j]))"
   ]
  },
  {
   "cell_type": "code",
   "execution_count": 200,
   "metadata": {},
   "outputs": [],
   "source": [
    "experiment.model.add_module(\"output\", torch.nn.Linear(1000, 11))"
   ]
  },
  {
   "cell_type": "code",
   "execution_count": 203,
   "metadata": {},
   "outputs": [
    {
     "data": {
      "image/png": "[encoded data removed]",
      "text/plain": [
       "<Figure size 432x288 with 1 Axes>"
      ]
     },
     "metadata": {
      "needs_background": "light"
     },
     "output_type": "display_data"
    }
   ],
   "source": [
    "fc = experiment.get_forgetting_curve()\n",
    "np.save(\"../saved_data/size{}_dense.pdf\".format(config[\"cnn_out_channels\"][0],\n",
    "                                                           ), fc)\n",
    "\n",
    "plt.plot(fc,'o', alpha=0.6);"
   ]
  },
  {
   "cell_type": "code",
   "execution_count": 6,
   "metadata": {},
   "outputs": [],
   "source": [
    "layers_.extend([\"linear2_kwinners\"])"
   ]
  },
  {
   "cell_type": "code",
   "execution_count": 19,
   "metadata": {},
   "outputs": [],
   "source": [
    "a = torch.squeeze(experiment.get_duty_cycles()[\"cnn1_kwinner\"])"
   ]
  },
  {
   "cell_type": "code",
   "execution_count": 28,
   "metadata": {},
   "outputs": [],
   "source": [
    "inds = [10, 122, 436]\n",
    "a[inds] = 0.0\n",
    "b = torch.squeeze(a[a.nonzero()])"
   ]
  },
  {
   "cell_type": "code",
   "execution_count": 42,
   "metadata": {},
   "outputs": [],
   "source": [
    "# def dc_grad(model, kwinner_modules, duty_cycles, frozen_dcs=None, pct=90):\n",
    "model = experiment.model\n",
    "duty_cycles = experiment.get_duty_cycles()\n",
    "kwinner_modules = [\"cnn1_kwinner\"]\n",
    "frozen_dcs = [8,23,234]\n",
    "pct = 90\n",
    "\n",
    "all_modules = list(model.named_children())\n",
    "# module_dict = {k[0]: k[1] for k in all_modules}\n",
    "\n",
    "for module_name in kwinner_modules:\n",
    "    if \"kwinner\" not in module_name:\n",
    "        print(module_name)\n",
    "        raise RuntimeError(\"Not a k-winner module\")\n",
    "    else:\n",
    "        # module = module_dict[module_name]\n",
    "        dc = torch.squeeze(duty_cycles[module_name])\n",
    "        if frozen_dcs is not None:\n",
    "            dc[frozen_dcs] = 0.0\n",
    "\n",
    "        k = int((1 - pct / 100) * len(dc))\n",
    "        _, inds = torch.topk(dc, k)\n",
    "\n",
    "    module_num = module_name.split(\"_\")[0][-1]\n",
    "    module_type = module_name.split(\"_\")[0][:-1]\n",
    "\n",
    "    # find the module corresponding to the kwinners\n",
    "    if module_type == \"cnn\":\n",
    "        module_index = int(np.where([\"cnn{}_cnn\".format(module_num) in k[0]\n",
    "                                     for k in all_modules])[0])\n",
    "    elif module_type == \"linear\":\n",
    "        module_index = int(np.where([\"linear{}\".format(module_num) in k[0]\n",
    "                                     for k in all_modules])[0][0])\n",
    "\n",
    "    weight_grads, bias_grads = [k.grad\n",
    "                                for k in all_modules[module_index][1].parameters()]\n",
    "\n"
   ]
  },
  {
   "cell_type": "code",
   "execution_count": 32,
   "metadata": {},
   "outputs": [],
   "source": [
    "duty_cycles = experiment.get_duty_cycles()[\"cnn1_kwinner\"]\n",
    "fdcs = torch.squeeze(duty_cycles)"
   ]
  },
  {
   "cell_type": "code",
   "execution_count": 56,
   "metadata": {},
   "outputs": [
    {
     "data": {
      "text/plain": [
       "tensor([[-1.4099e-04,  5.0257e-06, -3.2329e-04,  ..., -2.9835e-04,\n",
       "         -4.4993e-04, -9.5940e-04],\n",
       "        [ 3.8266e-04,  2.7763e-04,  2.8247e-04,  ...,  1.1724e-06,\n",
       "         -3.3919e-04,  2.5748e-05],\n",
       "        [ 4.4514e-04, -8.4291e-05,  2.7577e-04,  ..., -5.4569e-05,\n",
       "         -1.0449e-04, -1.4468e-04],\n",
       "        ...,\n",
       "        [ 3.1372e-04,  3.7986e-04,  1.2278e-04,  ..., -5.5801e-06,\n",
       "          2.2010e-04,  3.7797e-04],\n",
       "        [ 0.0000e+00,  0.0000e+00,  0.0000e+00,  ...,  0.0000e+00,\n",
       "          0.0000e+00,  0.0000e+00],\n",
       "        [ 3.0155e-04,  4.9811e-04, -1.3289e-03,  ...,  2.2856e-04,\n",
       "          1.2035e-04,  3.4209e-05]], device='cuda:0')"
      ]
     },
     "execution_count": 56,
     "metadata": {},
     "output_type": "execute_result"
    }
   ],
   "source": [
    "experiment.frozen_inds"
   ]
  },
  {
   "cell_type": "code",
   "execution_count": 13,
   "metadata": {},
   "outputs": [
    {
     "data": {
      "text/plain": [
       "(5, 11)"
      ]
     },
     "execution_count": 13,
     "metadata": {},
     "output_type": "execute_result"
    }
   ],
   "source": [
    "fc.shape"
   ]
  },
  {
   "cell_type": "code",
   "execution_count": 58,
   "metadata": {},
   "outputs": [
    {
     "data": {
      "text/plain": [
       "2"
      ]
     },
     "execution_count": 58,
     "metadata": {},
     "output_type": "execute_result"
    }
   ],
   "source": [
    "j"
   ]
  },
  {
   "cell_type": "code",
   "execution_count": null,
   "metadata": {},
   "outputs": [],
   "source": []
  }
 ],
 "metadata": {
  "kernelspec": {
   "display_name": "Python 3",
   "language": "python",
   "name": "python3"
  },
  "language_info": {
   "codemirror_mode": {
    "name": "ipython",
    "version": 3
   },
   "file_extension": ".py",
   "mimetype": "text/x-python",
   "name": "python",
   "nbconvert_exporter": "python",
   "pygments_lexer": "ipython3",
   "version": "3.7.6"
  }
 },
 "nbformat": 4,
 "nbformat_minor": 4
}
