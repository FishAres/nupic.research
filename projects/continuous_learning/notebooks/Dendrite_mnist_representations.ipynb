{
 "cells": [
  {
   "cell_type": "code",
   "execution_count": 1,
   "metadata": {},
   "outputs": [],
   "source": [
    "%load_ext autoreload\n",
    "%autoreload 2\n",
    "\n",
    "import numpy as np\n",
    "import sys\n",
    "sys.path.append(\"../\")\n",
    "\n",
    "import torch\n",
    "from torch import nn\n",
    "import torch.nn.functional as F\n",
    "from torch.utils.data import DataLoader\n",
    "from torchvision import transforms\n",
    "\n",
    "\n",
    "from toy_networks.dendrite_linear_mnist import ToyNetwork\n",
    "\n",
    "from nupic.research.frameworks.continuous_learning.utils import (\n",
    "    clear_labels,\n",
    "    freeze_output_layer,\n",
    "    train_model,\n",
    ")\n",
    "from nupic.research.frameworks.continuous_learning.dendrite_layers import (\n",
    "    DendriteLayer,\n",
    ")\n",
    "\n",
    "from nupic.research.frameworks.continuous_learning.mnist_data_utils import combine_classes, mnist_classwise_loader\n",
    "from nupic.research.frameworks.pytorch.model_utils import evaluate_model\n",
    "\n",
    "from nupic.torch.modules import (\n",
    "    Flatten,\n",
    "    KWinners,\n",
    "    SparseWeights,\n",
    ")\n",
    "\n",
    "import matplotlib.pyplot as plt\n",
    "import seaborn as sns\n",
    "\n",
    "%matplotlib inline"
   ]
  },
  {
   "cell_type": "code",
   "execution_count": 2,
   "metadata": {},
   "outputs": [],
   "source": [
    "train_loader, test_loader = mnist_classwise_loader(\n",
    "    data_dir = \"/Users/afisher/nta/mnist/\"\n",
    ")"
   ]
  },
  {
   "cell_type": "code",
   "execution_count": 9,
   "metadata": {},
   "outputs": [],
   "source": [
    "data_dir = \"/Users/afisher/nta/mnist/\"\n",
    "\n",
    "def train_sequential(model, optimizer=None, epochs=1, lr=0.01, combine_data=False, freeze_output=False):\n",
    "    train_inds = np.arange(4).reshape(2,2)\n",
    "\n",
    "    if combine_data:\n",
    "        cats = (False, True)\n",
    "    else:\n",
    "        cats = (False, False)\n",
    "    for j in range(len(train_inds)):\n",
    "        loader = combine_classes(data_dir, train_inds[j])\n",
    "        if optimizer is None:  # new optimizer for each bit\n",
    "            optimizer = torch.optim.Adam(model.parameters(), lr=lr, weight_decay=0.)\n",
    "        for epoch in range(epochs):\n",
    "            train_model(model, loader=loader, optimizer=optimizer, device=torch.device(\"cpu\"),\n",
    "                             freeze_output=freeze_output, combine_data=combine_data, #cats[j],\n",
    "                             output_indices=clear_labels(train_inds[j], len(train_inds.flatten())),\n",
    "                             layer_type=\"dendrite\",\n",
    "                            )\n",
    "            test_acc = np.array(\n",
    "            [np.round(evaluate_model(model, test_loader[k],\n",
    "                                 device=torch.device(\"cpu\"))[\"mean_accuracy\"], 2) for k in train_inds.flatten()\n",
    "            ] )\n",
    "            print(test_acc)\n",
    "            \n",
    "    return test_acc\n",
    "\n",
    "def hard_sigmoid(x):\n",
    "    return 1 / (1 + torch.exp(-3*(x-1)))"
   ]
  },
  {
   "cell_type": "code",
   "execution_count": 12,
   "metadata": {},
   "outputs": [
    {
     "name": "stdout",
     "output_type": "stream",
     "text": [
      "[1. 1. 0. 0.]\n",
      "[0.76 0.23 0.04 0.89]\n"
     ]
    },
    {
     "data": {
      "text/plain": [
       "array([0.76, 0.23, 0.04, 0.89])"
      ]
     },
     "execution_count": 12,
     "metadata": {},
     "output_type": "execute_result"
    }
   ],
   "source": [
    "net = ToyNetwork(dpc=10*(1,1,1,1), #1*(1,2,2,2),\n",
    "                 linear_n=(200, 100, 20,),\n",
    "                 dend_ws=2*(0.5, 0.1, 0.1, 0.1),\n",
    "                 cat_ws=(0.1, 0.1, 0.1, 0.1),\n",
    "                 num_classes=4,\n",
    "                act_fun_type=\"kwinner\")\n",
    "\n",
    "optim = torch.optim.Adam(net.parameters(), lr=0.02, weight_decay=0.0,)\n",
    "\n",
    "train_sequential(net, optimizer=optim, lr=0.001, epochs=1,\n",
    "                 freeze_output=False,  combine_data=True)\n"
   ]
  },
  {
   "cell_type": "code",
   "execution_count": 14,
   "metadata": {},
   "outputs": [
    {
     "name": "stdout",
     "output_type": "stream",
     "text": [
      "[1. 1. 0. 0.]\n",
      "[0.9  1.   0.06 0.76]\n"
     ]
    },
    {
     "data": {
      "text/plain": [
       "array([0.9 , 1.  , 0.06, 0.76])"
      ]
     },
     "execution_count": 14,
     "metadata": {},
     "output_type": "execute_result"
    }
   ],
   "source": [
    "net = ToyNetwork(dpc=2*(1,1,1,1), #1*(1,2,2,2),\n",
    "                 linear_n=(100, 50, 20,),\n",
    "                 dend_ws=2*(0.5, 0.1, 0.1, 0.1),\n",
    "                 cat_ws=(0.1, 0.1, 0.1, 0.1),\n",
    "                 num_classes=4,\n",
    "                act_fun_type=\"kwinner\")\n",
    "\n",
    "optim = torch.optim.Adam(net.parameters(), lr=0.02, weight_decay=0.0,)\n",
    "\n",
    "train_sequential(net, optimizer=optim, lr=0.001, epochs=1,\n",
    "                 freeze_output=False,  combine_data=True)\n"
   ]
  },
  {
   "cell_type": "code",
   "execution_count": 17,
   "metadata": {},
   "outputs": [
    {
     "name": "stdout",
     "output_type": "stream",
     "text": [
      "[1. 1. 0. 0.]\n",
      "[0.   0.   0.73 0.62]\n"
     ]
    },
    {
     "data": {
      "text/plain": [
       "array([0.  , 0.  , 0.73, 0.62])"
      ]
     },
     "execution_count": 17,
     "metadata": {},
     "output_type": "execute_result"
    }
   ],
   "source": [
    "net = ToyNetwork(dpc=1*(1,1,1,1), #1*(1,2,2,2),\n",
    "                 linear_n=(50, 50, 20,),\n",
    "                 dend_ws=2*(0.5, 0.1, 0.1, 0.1),\n",
    "                 cat_ws=(0.1, 0.1, 0.1, 0.1),\n",
    "                 num_classes=4,\n",
    "                act_fun_type=\"kwinner\")\n",
    "\n",
    "optim = torch.optim.Adam(net.parameters(), lr=0.02, weight_decay=0.0,)\n",
    "\n",
    "train_sequential(net, optimizer=optim, lr=0.001, epochs=1,\n",
    "                 freeze_output=False,  combine_data=True)\n"
   ]
  },
  {
   "cell_type": "code",
   "execution_count": 19,
   "metadata": {},
   "outputs": [
    {
     "name": "stdout",
     "output_type": "stream",
     "text": [
      "[1. 1. 0. 0.]\n",
      "[0.9  0.   0.79 0.05]\n"
     ]
    },
    {
     "data": {
      "text/plain": [
       "array([0.9 , 0.  , 0.79, 0.05])"
      ]
     },
     "execution_count": 19,
     "metadata": {},
     "output_type": "execute_result"
    }
   ],
   "source": [
    "net = ToyNetwork(dpc=2*(1,1,1,1), #1*(1,2,2,2),\n",
    "                 linear_n=(50, 50, 20,),\n",
    "                 dend_ws=2*(0.1, 0.1, 0.1, 0.1),\n",
    "                 cat_ws=(0.1, 0.1, 0.1, 0.1),\n",
    "                 num_classes=4,\n",
    "                act_fun_type=\"kwinner\")\n",
    "\n",
    "optim = torch.optim.Adam(net.parameters(), lr=0.02, weight_decay=0.0,)\n",
    "\n",
    "train_sequential(net, optimizer=optim, lr=0.001, epochs=1,\n",
    "                 freeze_output=False,  combine_data=True)\n"
   ]
  },
  {
   "cell_type": "code",
   "execution_count": 159,
   "metadata": {},
   "outputs": [
    {
     "name": "stdout",
     "output_type": "stream",
     "text": [
      "[1. 1. 0. 0.]\n",
      "[0.91 0.   0.7  0.04]\n"
     ]
    },
    {
     "data": {
      "text/plain": [
       "array([0.91, 0.  , 0.7 , 0.04])"
      ]
     },
     "execution_count": 159,
     "metadata": {},
     "output_type": "execute_result"
    }
   ],
   "source": [
    "net = ToyNetwork(dpc=2*(1,1,1,1), #1*(1,2,2,2),\n",
    "                 linear_n=(100, 50, 20,),\n",
    "                 dend_ws=2*(0.25, 0.1, 0.1, 0.1),\n",
    "                 cat_ws=(0.1, 0.1, 0.1, 0.1),\n",
    "                 num_classes=4,\n",
    "                act_fun_type=\"kwinner\")\n",
    "\n",
    "optim = torch.optim.Adam(net.parameters(), lr=0.02, weight_decay=0.0,)\n",
    "\n",
    "train_sequential(net, optimizer=optim, lr=0.001, epochs=1,\n",
    "                 freeze_output=False,  combine_data=True)\n"
   ]
  },
  {
   "cell_type": "code",
   "execution_count": 26,
   "metadata": {},
   "outputs": [
    {
     "name": "stdout",
     "output_type": "stream",
     "text": [
      "[0.  0.  0.7 0. ]\n",
      "[0.   0.   0.62 0.32]\n"
     ]
    },
    {
     "data": {
      "text/plain": [
       "array([0.  , 0.  , 0.62, 0.32])"
      ]
     },
     "execution_count": 26,
     "metadata": {},
     "output_type": "execute_result"
    }
   ],
   "source": [
    "net = ToyNetwork(dpc=2*(1,1,1,1), #1*(1,2,2,2),\n",
    "                 linear_n=(100, 50, 20,),\n",
    "                 dend_ws=2*(0.1, 0.1, 0.1, 0.1),\n",
    "                 cat_ws=1*(0.1, 0.1, 0.1, 0.1),\n",
    "                 num_classes=10,\n",
    "                act_fun_type=\"sigmoid\")\n",
    "\n",
    "optim = torch.optim.SGD(net.parameters(), lr=0.04, weight_decay=0.0,)\n",
    "\n",
    "train_sequential(net, optimizer=optim, lr=0.01, epochs=1,\n",
    "                 freeze_output=True,  combine_data=True)\n"
   ]
  },
  {
   "cell_type": "code",
   "execution_count": 84,
   "metadata": {},
   "outputs": [],
   "source": [
    "out0 = net.d1(net.flatten(x))"
   ]
  },
  {
   "cell_type": "code",
   "execution_count": 85,
   "metadata": {},
   "outputs": [
    {
     "data": {
      "text/plain": [
       "<matplotlib.image.AxesImage at 0x7fbdbb6629d0>"
      ]
     },
     "execution_count": 85,
     "metadata": {},
     "output_type": "execute_result"
    },
    {
     "data": {
      "image/png": "[encoded data removed]",
      "text/plain": [
       "<Figure size 432x288 with 1 Axes>"
      ]
     },
     "metadata": {
      "needs_background": "light"
     },
     "output_type": "display_data"
    }
   ],
   "source": [
    "plt.imshow(out0.detach())"
   ]
  },
  {
   "cell_type": "code",
   "execution_count": 86,
   "metadata": {},
   "outputs": [],
   "source": [
    "out1 = net.d1(net.flatten(x2))"
   ]
  },
  {
   "cell_type": "code",
   "execution_count": 87,
   "metadata": {},
   "outputs": [
    {
     "data": {
      "text/plain": [
       "<matplotlib.image.AxesImage at 0x7fbdbfc4db50>"
      ]
     },
     "execution_count": 87,
     "metadata": {},
     "output_type": "execute_result"
    },
    {
     "data": {
      "image/png": "[encoded data removed]",
      "text/plain": [
       "<Figure size 432x288 with 1 Axes>"
      ]
     },
     "metadata": {
      "needs_background": "light"
     },
     "output_type": "display_data"
    }
   ],
   "source": [
    "plt.imshow(out1.detach())"
   ]
  },
  {
   "cell_type": "code",
   "execution_count": 17,
   "metadata": {},
   "outputs": [],
   "source": [
    "def get_act(model, loader):\n",
    "    \"\"\" Gets network activations when presented with inputs for each class\n",
    "    \"\"\"\n",
    "\n",
    "    layer_names = [p[0] for p in model.named_children()]\n",
    "\n",
    "    act = {}\n",
    "\n",
    "    def get_layer_act(name):\n",
    "        def hook(model, input_, output):\n",
    "            act[name] = output.detach().cpu().numpy()\n",
    "\n",
    "        return hook\n",
    "\n",
    "    cnt = 0\n",
    "    for module in model.named_children():\n",
    "        for submod in module[1].named_children():\n",
    "            submod[1].register_forward_hook(get_layer_act(submod[0] + \"_{}\".format(module[0])))\n",
    "            cnt += 1\n",
    "\n",
    "    outputs = []\n",
    "    x, y = next(iter(loader))\n",
    "    model(x, y)\n",
    "    outputs = act\n",
    "    act = {}\n",
    "\n",
    "    return outputs"
   ]
  },
  {
   "cell_type": "code",
   "execution_count": 21,
   "metadata": {},
   "outputs": [],
   "source": [
    "act = get_act(net, loader)"
   ]
  },
  {
   "cell_type": "code",
   "execution_count": 19,
   "metadata": {},
   "outputs": [],
   "source": [
    "loader = combine_classes(data_dir, [0,1])\n",
    "x, y = next(iter(loader))"
   ]
  },
  {
   "cell_type": "code",
   "execution_count": 20,
   "metadata": {},
   "outputs": [],
   "source": [
    "loader2 = combine_classes(data_dir, [2,3])\n",
    "x2, y2 = next(iter(loader2))"
   ]
  },
  {
   "cell_type": "code",
   "execution_count": 139,
   "metadata": {},
   "outputs": [
    {
     "data": {
      "text/plain": [
       "dict_keys(['input_d1', 'output_d1', 'input_d2', 'output_d2', 'input_d3', 'output_d3', 'input_dend_output', 'output_dend_output'])"
      ]
     },
     "execution_count": 139,
     "metadata": {},
     "output_type": "execute_result"
    }
   ],
   "source": [
    "act.keys()"
   ]
  },
  {
   "cell_type": "code",
   "execution_count": 22,
   "metadata": {},
   "outputs": [
    {
     "data": {
      "text/plain": [
       "<matplotlib.image.AxesImage at 0x7fed7f535ad0>"
      ]
     },
     "execution_count": 22,
     "metadata": {},
     "output_type": "execute_result"
    },
    {
     "data": {
      "image/png": "[encoded data removed]",
      "text/plain": [
       "<Figure size 432x288 with 1 Axes>"
      ]
     },
     "metadata": {
      "needs_background": "light"
     },
     "output_type": "display_data"
    }
   ],
   "source": [
    "plt.imshow(act[\"input_dend_output\"], aspect=\"auto\")"
   ]
  },
  {
   "cell_type": "code",
   "execution_count": 23,
   "metadata": {},
   "outputs": [
    {
     "data": {
      "text/plain": [
       "<matplotlib.image.AxesImage at 0x7fed7e5d3f50>"
      ]
     },
     "execution_count": 23,
     "metadata": {},
     "output_type": "execute_result"
    },
    {
     "data": {
      "image/png": "[encoded data removed]",
      "text/plain": [
       "<Figure size 432x288 with 1 Axes>"
      ]
     },
     "metadata": {
      "needs_background": "light"
     },
     "output_type": "display_data"
    }
   ],
   "source": [
    "act2 = get_act(net, loader2)\n",
    "plt.imshow(act2[\"input_dend_output\"], aspect=\"auto\")"
   ]
  },
  {
   "cell_type": "code",
   "execution_count": 198,
   "metadata": {},
   "outputs": [],
   "source": [
    "def freeze_output_layer(model, indices, layer_type=\"dense\", linear_number=2):\n",
    "    \"\"\" Freeze output layer gradients of specific classes for classification.\n",
    "    :param layer_type: can be \"dense\" (i.e. model.output) or \"kwinner\"\n",
    "    :param linear_number: \"linear\" module number for k winner\n",
    "    (e.g. linear1_kwinners, linear2_kwinners etc.)\n",
    "    \"\"\"\n",
    "    print(layer_type)\n",
    "    if layer_type == \"dense\":\n",
    "        with torch.no_grad():\n",
    "            [model.output.weight.grad.data[index, :].fill_(0.0) for index in indices]\n",
    "            [model.output.bias.grad.data[index].fill_(0.0) for index in indices]\n",
    "\n",
    "    elif layer_type == \"kwinner\":\n",
    "        module_dict = {k[0]: k[1] for k in model.named_parameters()}\n",
    "        with torch.no_grad():\n",
    "            [\n",
    "                module_dict[\"linear{}.module.weight\".format(linear_number)]\n",
    "                .grad.data[index, :]\n",
    "                .fill_(0.0)\n",
    "                for index in indices\n",
    "            ]\n",
    "            [\n",
    "                module_dict[\"linear{}.module.bias\".format(linear_number)]\n",
    "                .grad.data[index]\n",
    "                .fill_(0.0)\n",
    "                for index in indices\n",
    "            ]\n",
    "            \n",
    "    elif layer_type == \"dendrite\":\n",
    "        with torch.no_grad():\n",
    "            [model.dend_output.output.weight.grad.data[index, :].fill_(0.0) for index in indices]\n",
    "            [model.dend_output.output.bias.grad.data[index].fill_(0.0) for index in indices] \n",
    "\n",
    "    else:\n",
    "        raise AssertionError(\"layer_type must be ''dense'' or ''kwinner''\")"
   ]
  },
  {
   "cell_type": "code",
   "execution_count": 184,
   "metadata": {},
   "outputs": [
    {
     "data": {
      "text/plain": [
       "tensor([[ 0.0000,  0.0000,  0.0000,  0.0000],\n",
       "        [ 0.0000,  0.0000,  0.0000,  0.0000],\n",
       "        [ 0.0000,  0.0000, -0.0100,  0.0000],\n",
       "        [ 0.0000,  0.0000,  0.0000,  0.0160]])"
      ]
     },
     "execution_count": 184,
     "metadata": {},
     "output_type": "execute_result"
    }
   ],
   "source": [
    "net.dend_output.output.weight.grad"
   ]
  },
  {
   "cell_type": "code",
   "execution_count": 188,
   "metadata": {},
   "outputs": [],
   "source": [
    "def train_sequential(model, optimizer=None, \n",
    "                     epochs=1, lr=0.01, num_tasks=2,\n",
    "                     combine_data=False, freeze_output=False):\n",
    "    \n",
    "#     train_inds = np.arange(1, 2*num_tasks+1).reshape(num_tasks,2)\n",
    "    train_inds = np.arange(4).reshape(2,2)\n",
    "\n",
    "    if combine_data:\n",
    "        cats = (False, True)\n",
    "    else:\n",
    "        cats = (False, False)\n",
    "        \n",
    "    for j in range(len(train_inds)):\n",
    "        loader = combine_classes(data_dir, train_inds[j])\n",
    "        if optimizer is None:  # new optimizer for each bit\n",
    "            optimizer = torch.optim.SGD(model.parameters(), lr=lr, weight_decay=0.)\n",
    "        for epoch in range(epochs):\n",
    "            train_model(model, loader=loader, optimizer=optimizer, device=torch.device(\"cpu\"),\n",
    "                             freeze_output=freeze_output, combine_data=combine_data, #cats[j],\n",
    "                             output_indices=clear_labels(train_inds[j],\n",
    "                                                         len(train_inds.flatten())\n",
    "                                                        ),\n",
    "                             layer_type=\"dendrite\", linear_number='',\n",
    "                            )\n",
    "            test_acc = np.array(\n",
    "            [np.round(evaluate_model(model, test_loader[k],\n",
    "                                 device=torch.device(\"cpu\"))[\"mean_accuracy\"], 2) for k in train_inds.flatten()\n",
    "            ] )\n",
    "            print(test_acc)\n",
    "            \n",
    "    return test_acc"
   ]
  },
  {
   "cell_type": "code",
   "execution_count": null,
   "metadata": {},
   "outputs": [],
   "source": []
  }
 ],
 "metadata": {
  "kernelspec": {
   "display_name": "Python 3",
   "language": "python",
   "name": "python3"
  },
  "language_info": {
   "codemirror_mode": {
    "name": "ipython",
    "version": 3
   },
   "file_extension": ".py",
   "mimetype": "text/x-python",
   "name": "python",
   "nbconvert_exporter": "python",
   "pygments_lexer": "ipython3",
   "version": "3.7.7"
  }
 },
 "nbformat": 4,
 "nbformat_minor": 4
}
