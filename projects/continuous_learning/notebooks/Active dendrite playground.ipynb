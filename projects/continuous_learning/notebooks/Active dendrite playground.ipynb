{
 "cells": [
  {
   "cell_type": "code",
   "execution_count": 1,
   "metadata": {},
   "outputs": [],
   "source": [
    "%load_ext autoreload\n",
    "%autoreload 2\n",
    "\n",
    "import numpy as np\n",
    "import sys\n",
    "sys.path.append(\"../\")\n",
    "\n",
    "import torch\n",
    "from torch import nn\n",
    "import torch.nn.functional as F\n",
    "\n",
    "from cont_speech_experiment import ContinuousSpeechExperiment, ClasswiseDataset\n",
    "from nupic.research.support import parse_config\n",
    "# from nupic.research.frameworks.pytorch.models.le_sparse_net import (\n",
    "#     LeSparseNet\n",
    "# )\n",
    "from nupic.research.frameworks.continuous_learning.utils import clear_labels\n",
    "from exp_lesparse import LeSparseNet\n",
    "\n",
    "from nupic.torch.modules import (\n",
    "    Flatten,\n",
    "    KWinners,\n",
    "    KWinners2d,\n",
    "    SparseWeights,\n",
    "    SparseWeights2d,\n",
    ")\n",
    "\n",
    "from nupic.research.frameworks.pytorch.model_utils import evaluate_model\n",
    "from nupic.research.frameworks.continuous_learning.dendrite_layers import DendriteLayer\n",
    "\n",
    "import matplotlib.pyplot as plt\n",
    "\n",
    "%matplotlib inline"
   ]
  },
  {
   "cell_type": "code",
   "execution_count": null,
   "metadata": {},
   "outputs": [
    {
     "name": "stdout",
     "output_type": "stream",
     "text": [
      "1.5\n",
      "1.5\n",
      "Creating optimizer with learning rate= 0.01\n"
     ]
    }
   ],
   "source": [
    "config_file = \"../experiments.cfg\"\n",
    "with open(config_file) as cf:\n",
    "    config_init = parse_config(cf)\n",
    "    \n",
    "cnn_pct_on = (0.25, 0.125) # default\n",
    "cnn_weight_sparsity = (0.3, 0.2) # default\n",
    "\n",
    "def adjust_sparsity(layer_size, pct_on):\n",
    "    return max(pct_on/(layer_size/64), 0.02)\n",
    "\n",
    "exp = \"sparseCNN2\"\n",
    "config = config_init[exp]\n",
    "config[\"name\"] = exp\n",
    "config[\"seed\"] = np.random.randint(0,200)\n",
    "\n",
    "aucs = np.zeros((2,2,3))\n",
    "fcs = []\n",
    "i,j,k = 0,0,0\n",
    "use_dends = [False, True]\n",
    "freeze_out = [False, True]\n",
    "cnn_sizes = [256, 512, 1028]\n",
    "\n",
    "for i in range(2):\n",
    "    for j in range(2):\n",
    "        for k in range(4):\n",
    "            cnn_out = (cnn_sizes[k], cnn_sizes[k])\n",
    "\n",
    "            config[\"cnn_out_channels\"] = (cnn_out[0], cnn_out[1])\n",
    "            config[\"cnn_percent_on\"] = (adjust_sparsity(cnn_out[0],cnn_pct_on[0]),\n",
    "                                        adjust_sparsity(cnn_out[1], cnn_pct_on[1]))\n",
    "            config[\"cnn_weight_sparsity\"] = (adjust_sparsity(cnn_out[0],cnn_weight_sparsity[0]),\n",
    "                                             adjust_sparsity(cnn_out[1],cnn_weight_sparsity[1]))\n",
    "            config[\"batch_size\"] = 32\n",
    "            config[\"use_dendrites\"] = use_dends[i]\n",
    "# config[\"boost_strength\"] = 0.0\n",
    "# config[\"boost_strength_factor\"] = 0.0\n",
    "# config[\"duty_cycle_period\"] = 4000\n",
    "\n",
    "            experiment = ContinuousSpeechExperiment(config)\n",
    "            train_inds = np.arange(1,11).reshape(5,2)\n",
    "            layer_type = \"kwinner\"\n",
    "            for ind in range(len(train_inds)):\n",
    "                experiment.train(1,train_inds[ind],\n",
    "                                freeze_output=freeze_out[j],\n",
    "                                layer_type=layer_type,\n",
    "                                output_indices=clear_labels(train_inds[ind]))\n",
    "            \n",
    "            auc = experiment.get_auc()\n",
    "            print(\"Dends: {}, Freeze: {}, cnn_size: {} - acc: {}, auc: {}\".format(\n",
    "                use_dends[i], freeze_out[j], cnn_sizes[k], \n",
    "                np.round(experiment.test()[\"mean_accuracy\"],2),\n",
    "                np.round(auc,2))\n",
    "                 )\n",
    "            aucs[i,j,k] = auc\n",
    "            fcs.append(experiment.get_forgetting_curve())\n"
   ]
  },
  {
   "cell_type": "code",
   "execution_count": 3,
   "metadata": {},
   "outputs": [
    {
     "data": {
      "text/plain": [
       "{'total_correct': 2150,\n",
       " 'mean_loss': 4.241028525612571,\n",
       " 'mean_accuracy': 84.24764890282131,\n",
       " 'entropy': 76355.921875,\n",
       " 'total_samples': 2552,\n",
       " 'non_zero_parameters': 43489200}"
      ]
     },
     "execution_count": 3,
     "metadata": {},
     "output_type": "execute_result"
    }
   ],
   "source": [
    "experiment.train_entire_dataset(1)\n",
    "experiment.test()"
   ]
  },
  {
   "cell_type": "code",
   "execution_count": 6,
   "metadata": {},
   "outputs": [],
   "source": [
    "train_inds = np.arange(1,11).reshape(5,2)\n",
    "layer_type = \"kwinner\"\n",
    "for j in range(len(train_inds)):\n",
    "    experiment.train(1,train_inds[j],\n",
    "                    freeze_output=False,\n",
    "                    layer_type=layer_type,\n",
    "                    output_indices=clear_labels(train_inds[j]))"
   ]
  },
  {
   "cell_type": "code",
   "execution_count": 7,
   "metadata": {},
   "outputs": [
    {
     "data": {
      "text/plain": [
       "<matplotlib.image.AxesImage at 0x7fe20c032050>"
      ]
     },
     "execution_count": 7,
     "metadata": {},
     "output_type": "execute_result"
    },
    {
     "data": {
      "image/png": "[encoded data removed]",
      "text/plain": [
       "<Figure size 432x288 with 1 Axes>"
      ]
     },
     "metadata": {
      "needs_background": "light"
     },
     "output_type": "display_data"
    }
   ],
   "source": [
    "fc = experiment.get_forgetting_curve()\n",
    "plt.imshow(fc)"
   ]
  },
  {
   "cell_type": "code",
   "execution_count": 8,
   "metadata": {},
   "outputs": [
    {
     "data": {
      "text/plain": [
       "Text(0.5, 0, '')"
      ]
     },
     "execution_count": 8,
     "metadata": {},
     "output_type": "execute_result"
    },
    {
     "data": {
      "image/png": "[encoded data removed]",
      "text/plain": [
       "<Figure size 432x288 with 1 Axes>"
      ]
     },
     "metadata": {
      "needs_background": "light"
     },
     "output_type": "display_data"
    }
   ],
   "source": [
    "plt.plot(np.nanmean(fc, axis=1),'o');\n",
    "plt.xticks(range(5))\n",
    "plt.ylabel(\"accuracy\")\n",
    "plt.xlabel(\"\")"
   ]
  },
  {
   "cell_type": "code",
   "execution_count": 9,
   "metadata": {},
   "outputs": [
    {
     "data": {
      "text/plain": [
       "60.216222222222214"
      ]
     },
     "execution_count": 9,
     "metadata": {},
     "output_type": "execute_result"
    }
   ],
   "source": [
    "np.trapz(np.nanmean(fc, axis=1))\n",
    "from scipy.integrate import simps\n",
    "simps(np.nanmean(fc, axis=1))"
   ]
  },
  {
   "cell_type": "code",
   "execution_count": 9,
   "metadata": {},
   "outputs": [],
   "source": [
    "a =np.vstack(experiment.running_accuracy)"
   ]
  },
  {
   "cell_type": "code",
   "execution_count": 10,
   "metadata": {},
   "outputs": [
    {
     "data": {
      "image/png": "[encoded data removed]",
      "text/plain": [
       "<Figure size 432x288 with 2 Axes>"
      ]
     },
     "metadata": {
      "needs_background": "light"
     },
     "output_type": "display_data"
    }
   ],
   "source": [
    "plt.imshow(a)\n",
    "plt.colorbar();"
   ]
  },
  {
   "cell_type": "code",
   "execution_count": 11,
   "metadata": {},
   "outputs": [],
   "source": [
    "b = np.vstack([np.roll(a[i,:], 8-2*i) for i in range(a.shape[0])])"
   ]
  },
  {
   "cell_type": "code",
   "execution_count": 12,
   "metadata": {},
   "outputs": [
    {
     "data": {
      "text/plain": [
       "[<matplotlib.lines.Line2D at 0x7fec4757a9d0>,\n",
       " <matplotlib.lines.Line2D at 0x7fec475cf610>,\n",
       " <matplotlib.lines.Line2D at 0x7fec475cf0d0>,\n",
       " <matplotlib.lines.Line2D at 0x7fec475cf150>,\n",
       " <matplotlib.lines.Line2D at 0x7fec475cf650>]"
      ]
     },
     "execution_count": 12,
     "metadata": {},
     "output_type": "execute_result"
    },
    {
     "data": {
      "image/png": "[encoded data removed]",
      "text/plain": [
       "<Figure size 432x288 with 1 Axes>"
      ]
     },
     "metadata": {
      "needs_background": "light"
     },
     "output_type": "display_data"
    }
   ],
   "source": [
    "plt.plot(b.T,'o')"
   ]
  },
  {
   "cell_type": "code",
   "execution_count": 11,
   "metadata": {},
   "outputs": [
    {
     "data": {
      "text/plain": [
       "18.064263322884013"
      ]
     },
     "execution_count": 11,
     "metadata": {},
     "output_type": "execute_result"
    }
   ],
   "source": [
    "experiment.test()[\"mean_accuracy\"]"
   ]
  },
  {
   "cell_type": "code",
   "execution_count": 19,
   "metadata": {},
   "outputs": [
    {
     "name": "stdout",
     "output_type": "stream",
     "text": [
      "Dends: False, Freeze: False, cnn_size: 256 - acc: 20.85, auc: 69.82\n"
     ]
    }
   ],
   "source": [
    "print(\"Dends: {}, Freeze: {}, cnn_size: {} - acc: {}, auc: {}\".format(\n",
    "    use_dends, freeze_out, cnn_sizes, np.round(experiment.test()[\"mean_accuracy\"],2),\n",
    "                                              np.round(auc,2)))"
   ]
  },
  {
   "cell_type": "code",
   "execution_count": 22,
   "metadata": {},
   "outputs": [
    {
     "data": {
      "text/plain": [
       "(1, 0, 1)"
      ]
     },
     "execution_count": 22,
     "metadata": {},
     "output_type": "execute_result"
    }
   ],
   "source": [
    "i,j,k"
   ]
  },
  {
   "cell_type": "code",
   "execution_count": null,
   "metadata": {},
   "outputs": [],
   "source": []
  }
 ],
 "metadata": {
  "kernelspec": {
   "display_name": "Python 3",
   "language": "python",
   "name": "python3"
  },
  "language_info": {
   "codemirror_mode": {
    "name": "ipython",
    "version": 3
   },
   "file_extension": ".py",
   "mimetype": "text/x-python",
   "name": "python",
   "nbconvert_exporter": "python",
   "pygments_lexer": "ipython3",
   "version": "3.7.6"
  }
 },
 "nbformat": 4,
 "nbformat_minor": 4
}
