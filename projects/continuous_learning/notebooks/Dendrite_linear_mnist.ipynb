{
 "cells": [
  {
   "cell_type": "code",
   "execution_count": 22,
   "metadata": {},
   "outputs": [
    {
     "name": "stdout",
     "output_type": "stream",
     "text": [
      "The autoreload extension is already loaded. To reload it, use:\n",
      "  %reload_ext autoreload\n"
     ]
    }
   ],
   "source": [
    "%load_ext autoreload\n",
    "%autoreload 2\n",
    "\n",
    "import numpy as np\n",
    "import sys\n",
    "sys.path.append(\"../\")\n",
    "\n",
    "import torch\n",
    "from torch import nn\n",
    "import torch.nn.functional as F\n",
    "from torch.utils.data import DataLoader\n",
    "from torchvision import transforms\n",
    "\n",
    "\n",
    "from toy_networks.dendrite_linear_mnist import ToyNetwork\n",
    "\n",
    "from nupic.research.frameworks.continuous_learning.utils import (\n",
    "    clear_labels,\n",
    "    freeze_output_layer,\n",
    "    train_model,\n",
    ")\n",
    "from nupic.research.frameworks.continuous_learning.dendrite_layers import (\n",
    "    DendriteLayer,\n",
    ")\n",
    "\n",
    "from nupic.research.frameworks.continuous_learning.mnist_data_utils import combine_classes, mnist_classwise_loader\n",
    "from nupic.research.frameworks.pytorch.model_utils import evaluate_model\n",
    "\n",
    "from nupic.torch.modules import (\n",
    "    Flatten,\n",
    "    KWinners,\n",
    "    SparseWeights,\n",
    ")\n",
    "\n",
    "import matplotlib.pyplot as plt\n",
    "import seaborn as sns\n",
    "\n",
    "%matplotlib inline"
   ]
  },
  {
   "cell_type": "code",
   "execution_count": 93,
   "metadata": {},
   "outputs": [],
   "source": [
    "data_dir = \"/home/ec2-user/nta/data/mnist/\"\n",
    "\n",
    "def train_sequential(model, optimizer=None, epochs=1, lr=0.01, combine_data=False, freeze_output=False):\n",
    "    train_inds = np.arange(4).reshape(2,2)\n",
    "\n",
    "    if combine_data:\n",
    "        cats = (False, True)\n",
    "    else:\n",
    "        cats = (False, False)\n",
    "    for j in range(len(train_inds)):\n",
    "        loader = combine_classes(data_dir, train_inds[j])\n",
    "        if optimizer is None:  # new optimizer for each bit\n",
    "            optimizer = torch.optim.SGD(model.parameters(), lr=lr, weight_decay=0.)\n",
    "        for epoch in range(epochs):\n",
    "            train_model(model, loader=loader, optimizer=optimizer, device=torch.device(\"cuda\"),\n",
    "                             freeze_output=freeze_output, combine_data=cats[j],\n",
    "                             output_indices=clear_labels(train_inds[j], len(train_inds.flatten())),\n",
    "                             layer_type=\"kwinner\", linear_number='',\n",
    "                            )\n",
    "            test_acc = np.array(\n",
    "            [np.round(evaluate_model(model, test_loader[k],\n",
    "                                 device=torch.device(\"cuda\"))[\"mean_accuracy\"], 2) for k in train_inds.flatten()\n",
    "            ] )\n",
    "            print(test_acc)\n",
    "            \n",
    "    return test_acc"
   ]
  },
  {
   "cell_type": "code",
   "execution_count": 12,
   "metadata": {},
   "outputs": [],
   "source": [
    "def heatmap_vals(x, rounding=2, figsize=(10,5)):\n",
    "    fig = plt.figure(figsize=figsize)\n",
    "    ax = fig.add_subplot(111)\n",
    "    img = ax.imshow(x, aspect=\"auto\")\n",
    "    plt.colorbar(img, ax=ax)\n",
    "    for (j,i),label in np.ndenumerate(x):\n",
    "        ax.text(i,j,np.round(label,rounding),ha='center',va='center', color='w')\n",
    "        \n",
    "def get_retention_mean(experiment):\n",
    "    ra = np.vstack(experiment.running_accuracy)[:,1:5]\n",
    "    old = np.round(ra[1, 2:4].mean(), 2)\n",
    "    new = np.round(ra[1, 0:2].mean(), 2)\n",
    "    return old, new\n",
    "\n",
    "def hard_sigmoid(x):\n",
    "    return 1 / (1 + torch.exp(-3*(x-1)))"
   ]
  },
  {
   "cell_type": "code",
   "execution_count": 118,
   "metadata": {},
   "outputs": [
    {
     "name": "stdout",
     "output_type": "stream",
     "text": [
      "[1. 1. 0. 0.]\n",
      "[0.35 0.94 0.   0.04]\n"
     ]
    },
    {
     "data": {
      "text/plain": [
       "array([0.35, 0.94, 0.  , 0.04])"
      ]
     },
     "execution_count": 118,
     "metadata": {},
     "output_type": "execute_result"
    }
   ],
   "source": [
    "net = ToyNetwork(dpc=10*(1,1,1,1), #1*(1,2,2,2),\n",
    "                 linear_n=(100, 800, 100,),\n",
    "                 dend_ws=2*(0.5, 0.1, 0.1, 0.1),\n",
    "                 cat_ws=(0.1, 0.1, 0.1, 0.1),\n",
    "                 num_classes=4,\n",
    "                act_fun_type=\"kwinner\").cuda()\n",
    "\n",
    "train_loader, test_loader = mnist_classwise_loader()\n",
    "\n",
    "optim = torch.optim.Adam(net.parameters(), lr=0.02, weight_decay=0.0,)\n",
    "\n",
    "train_sequential(net, optimizer=optim, lr=0.001, epochs=1, freeze_output=False,  combine_data=True)\n",
    "# dpc = (1,2,2), size=(200,100,50), SGD, lr=0.01, 2 epochs, no categorical"
   ]
  },
  {
   "cell_type": "code",
   "execution_count": 124,
   "metadata": {},
   "outputs": [],
   "source": [
    "a = tot_acc[:,:,:2].mean(axis=2)\n",
    "b = tot_acc[:,:,2:].mean(axis=2)"
   ]
  },
  {
   "cell_type": "code",
   "execution_count": 125,
   "metadata": {},
   "outputs": [
    {
     "data": {
      "image/png": "[encoded data removed]",
      "text/plain": [
       "<Figure size 720x360 with 4 Axes>"
      ]
     },
     "metadata": {
      "needs_background": "light"
     },
     "output_type": "display_data"
    }
   ],
   "source": [
    "plt.figure(figsize=(10,5))\n",
    "plt.subplot(1,2,1)\n",
    "plt.imshow(a, aspect=\"auto\")\n",
    "plt.clim((0, 1))\n",
    "plt.xticks(range(2), (\"True\", \"False\"))\n",
    "plt.xlabel(\"Categorical input\")\n",
    "plt.yticks(range(12), dpcs)\n",
    "plt.title(\"Retained\")\n",
    "plt.colorbar();\n",
    "\n",
    "plt.subplot(1,2,2)\n",
    "plt.imshow(b, aspect=\"auto\")\n",
    "plt.xticks(range(2), (\"True\", \"False\"))\n",
    "plt.xlabel(\"Categorical input\")\n",
    "plt.yticks(range(12), dpcs)\n",
    "plt.title(\"New\")\n",
    "plt.clim((0, 1))\n",
    "plt.colorbar();"
   ]
  },
  {
   "cell_type": "code",
   "execution_count": null,
   "metadata": {},
   "outputs": [],
   "source": [
    "dpcs = np.arange(1,24,2)\n",
    "cat_projection = (True, False)\n",
    "        \n",
    "tot_acc = np.zeros((len(dpcs), 2, 4))\n",
    "\n",
    "for i in range(len(dpcs)):\n",
    "    for j in range(2):\n",
    "\n",
    "        net = ToyNetwork(dpc=dpcs[i]*(1,1,1),\n",
    "                         linear_n=(512, 512, 64,),\n",
    "                        act_fun_type=\"kwinner\").cuda()\n",
    "\n",
    "        train_loader, test_loader = mnist_byclass_dataset()\n",
    "\n",
    "        optim = torch.optim.SGD(net.parameters(), lr=0.04, weight_decay=0.0,)\n",
    "        \n",
    "        print(\"dpc: {}, cat_proj: {}\".format(dpcs[i], cat_projection[j]))\n",
    "\n",
    "        test_acc = train_sequential(net, optimizer=optim, lr=0.02, epochs=1, freeze_output=True,  combine_data=cat_projection[j])\n",
    "\n",
    "        tot_acc[i,j,:] = test_acc\n",
    "\n",
    "    \n"
   ]
  },
  {
   "cell_type": "code",
   "execution_count": 122,
   "metadata": {},
   "outputs": [],
   "source": [
    "def train_sequential(model, optimizer=None, epochs=1, lr=0.01, combine_data=False, freeze_output=False):\n",
    "    train_inds = np.arange(4).reshape(2,2)\n",
    "\n",
    "    if combine_data:\n",
    "        cats = (False, True)\n",
    "    else:\n",
    "        cats = (False, False)\n",
    "    for j in range(len(train_inds)):\n",
    "        loader = combine_classes(data_dir, train_inds[j])\n",
    "        if optimizer is None:  # new optimizer for each bit\n",
    "            optimizer = torch.optim.SGD(model.parameters(), lr=lr, weight_decay=0.)\n",
    "        for epoch in range(epochs):\n",
    "            train_model(model, loader=loader, optimizer=optimizer, device=torch.device(\"cuda\"),\n",
    "                             freeze_output=freeze_output, combine_data=cats[j],\n",
    "                             output_indices=clear_labels(train_inds[j], len(train_inds.flatten())),\n",
    "                             layer_type=\"kwinner\", linear_number='',\n",
    "                            )\n",
    "            test_acc = np.array(\n",
    "            [np.round(evaluate_model(model, test_loader[k],\n",
    "                                 device=torch.device(\"cuda\"))[\"mean_accuracy\"], 2) for k in train_inds.flatten()\n",
    "            ] )\n",
    "            print(test_acc)\n",
    "            \n",
    "    return test_acc\n",
    "\n",
    "def combine_classes(data_dir, training_classes, batch_size=32):\n",
    "    data = []\n",
    "    for k in training_classes:\n",
    "        data.append(torch.load(data_dir + \"mnist_train_{}.npz\".format(k)))\n",
    "\n",
    "    samples_ = [data[k][0] for k in range(len(training_classes))]\n",
    "    labels_ = [data[k][1] for k in range(len(training_classes))]\n",
    "    combined_samples = torch.cat(samples_)\n",
    "    combined_labels = torch.cat(labels_)\n",
    "    combined_dataset = list((combined_samples, combined_labels))\n",
    "\n",
    "    f = tempfile.NamedTemporaryFile(delete=True)\n",
    "    torch.save(combined_dataset, f)\n",
    "    dataset = ClasswiseDataset(\n",
    "        cachefilepath=os.path.split(f.name)[0],\n",
    "        basename=os.path.split(f.name)[1],\n",
    "        qualifiers=[\"tmp\"],\n",
    "        transform=transforms.Compose([\n",
    "            transforms.Lambda(lambda x: (x[0].float(), x[1].long())),\n",
    "        ])\n",
    "    )\n",
    "\n",
    "    data_loader = DataLoader(\n",
    "        dataset, batch_size=batch_size, shuffle=True, drop_last=True\n",
    "    )\n",
    "    f.flush()\n",
    "\n",
    "    train_loader = data_loader\n",
    "    del samples_, labels_, data\n",
    "    return train_loader\n",
    "    f.close()"
   ]
  },
  {
   "cell_type": "code",
   "execution_count": 63,
   "metadata": {},
   "outputs": [],
   "source": [
    "from nupic.research.frameworks.continuous_learning.mnist_data_utils import mnist_byclass_dataset\n",
    "\n",
    "train_loader, test_loader = mnist_byclass_dataset()"
   ]
  },
  {
   "cell_type": "code",
   "execution_count": 64,
   "metadata": {},
   "outputs": [],
   "source": [
    "x,y = next(iter(test_loader[0]))"
   ]
  },
  {
   "cell_type": "code",
   "execution_count": 66,
   "metadata": {},
   "outputs": [
    {
     "data": {
      "text/plain": [
       "torch.Size([32])"
      ]
     },
     "execution_count": 66,
     "metadata": {},
     "output_type": "execute_result"
    }
   ],
   "source": [
    "y.shape"
   ]
  },
  {
   "cell_type": "code",
   "execution_count": 103,
   "metadata": {},
   "outputs": [
    {
     "data": {
      "text/plain": [
       "array([ 1,  3,  5,  7,  9, 11, 13, 15, 17, 19, 21, 23])"
      ]
     },
     "execution_count": 103,
     "metadata": {},
     "output_type": "execute_result"
    }
   ],
   "source": [
    "np.arange(1,24,2)"
   ]
  },
  {
   "cell_type": "code",
   "execution_count": null,
   "metadata": {},
   "outputs": [],
   "source": []
  }
 ],
 "metadata": {
  "kernelspec": {
   "display_name": "Python 3",
   "language": "python",
   "name": "python3"
  },
  "language_info": {
   "codemirror_mode": {
    "name": "ipython",
    "version": 3
   },
   "file_extension": ".py",
   "mimetype": "text/x-python",
   "name": "python",
   "nbconvert_exporter": "python",
   "pygments_lexer": "ipython3",
   "version": "3.7.7"
  }
 },
 "nbformat": 4,
 "nbformat_minor": 4
}
