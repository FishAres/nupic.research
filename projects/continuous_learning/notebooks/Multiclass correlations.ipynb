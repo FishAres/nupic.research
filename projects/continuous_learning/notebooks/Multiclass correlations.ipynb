{
 "cells": [
  {
   "cell_type": "code",
   "execution_count": 1,
   "metadata": {},
   "outputs": [],
   "source": [
    "%load_ext autoreload\n",
    "%autoreload 2\n",
    "\n",
    "from torch.utils.data import DataLoader, Dataset\n",
    "import torch\n",
    "\n",
    "import sys\n",
    "sys.path.append('../')\n",
    "import os\n",
    "\n",
    "from cont_speech_experiment import ContinuousSpeechExperiment, ClasswiseDataset\n",
    "from nupic.research.support import parse_config\n",
    "from correlation_metrics import register_act, plot_metrics\n",
    "\n",
    "import numpy as np\n",
    "\n",
    "import matplotlib.pyplot as plt\n",
    "%matplotlib inline"
   ]
  },
  {
   "cell_type": "code",
   "execution_count": 3,
   "metadata": {
    "scrolled": false
   },
   "outputs": [],
   "source": [
    "def train_loop(experiment):\n",
    "    accs = [] # test loss\n",
    "    ent = [] # entropy\n",
    "    class_acc = []\n",
    "    t_acc = []\n",
    "    grads = []\n",
    "\n",
    "    np.random.seed(np.random.randint(0,100))\n",
    "    train_labels = np.reshape(np.random.permutation(np.arange(1,11)), (5,2))\n",
    "\n",
    "    epochs = 1\n",
    "    indices = []\n",
    "\n",
    "\n",
    "    for label in train_labels:\n",
    "        print(\"training on class {}\".format(label))\n",
    "\n",
    "        indices = np.hstack([0,np.delete(train_labels,np.where(train_labels==label)[0],axis=0).flatten()])\n",
    "\n",
    "        for epoch in range(epochs):\n",
    "            print(\"training: epoch {}\".format(epoch+1))\n",
    "            experiment.train(epoch, label, indices)   \n",
    "\n",
    "    #         print(torch.max(torch.abs(experiment.model.output.weight.grad[indices,:])))\n",
    "\n",
    "            mt = experiment.test()\n",
    "            t_acc.append(mt[\"mean_accuracy\"])\n",
    "\n",
    "    #         grads.append(experiment.model.output.weight.grad.cpu().numpy())\n",
    "\n",
    "        ct = [experiment.test_class(k)[\"mean_accuracy\"] for k in range(1,11)]\n",
    "        class_acc.append(ct)\n",
    "\n",
    "        t = experiment.test()\n",
    "        print(\"Mean accuracy: {}\".format(t[\"mean_accuracy\"]))\n",
    "        accs.append(t[\"mean_accuracy\"])\n",
    "        ent.append(np.round(t[\"entropy\"]))\n",
    "\n",
    "    offdiag_corrs, diag_corrs, offdiag_dotprods, diag_dotprods,\n",
    "    sh_offdiag_corrs, sh_diag_corrs, sh_offdiag_dotprods, sh_diag_dotprods = register_act(experiment)\n",
    "    \n",
    "    return offdiag_corrs, diag_corrs, offdiag_dotprods, diag_dotprods,\n",
    "    sh_offdiag_corrs, sh_diag_corrs, sh_offdiag_dotprods, sh_diag_dotprods"
   ]
  },
  {
   "cell_type": "code",
   "execution_count": 7,
   "metadata": {},
   "outputs": [
    {
     "name": "stdout",
     "output_type": "stream",
     "text": [
      "model on GPU\n",
      "Creating optimizer with learning rate= 0.01\n",
      "training on class [9 3]\n",
      "training: epoch 1\n"
     ]
    },
    {
     "ename": "KeyboardInterrupt",
     "evalue": "",
     "output_type": "error",
     "traceback": [
      "\u001b[0;31m---------------------------------------------------------------------------\u001b[0m",
      "\u001b[0;31mKeyboardInterrupt\u001b[0m                         Traceback (most recent call last)",
      "\u001b[0;32m<ipython-input-7-36b4c42a5960>\u001b[0m in \u001b[0;36m<module>\u001b[0;34m\u001b[0m\n\u001b[1;32m     34\u001b[0m     \u001b[0mexperiment\u001b[0m \u001b[0;34m=\u001b[0m \u001b[0mContinuousSpeechExperiment\u001b[0m\u001b[0;34m(\u001b[0m\u001b[0mconfig\u001b[0m\u001b[0;34m=\u001b[0m\u001b[0mconfig\u001b[0m\u001b[0;34m)\u001b[0m\u001b[0;34m\u001b[0m\u001b[0;34m\u001b[0m\u001b[0m\n\u001b[1;32m     35\u001b[0m \u001b[0;34m\u001b[0m\u001b[0m\n\u001b[0;32m---> 36\u001b[0;31m     \u001b[0moffdiag_corrs\u001b[0m\u001b[0;34m,\u001b[0m \u001b[0mdiag_corrs\u001b[0m\u001b[0;34m,\u001b[0m \u001b[0moffdiag_dotprods\u001b[0m\u001b[0;34m,\u001b[0m \u001b[0mdiag_dotprods\u001b[0m\u001b[0;34m,\u001b[0m \u001b[0msh_offdiag_corrs\u001b[0m\u001b[0;34m,\u001b[0m \u001b[0msh_diag_corrs\u001b[0m\u001b[0;34m,\u001b[0m \u001b[0msh_offdiag_dotprods\u001b[0m\u001b[0;34m,\u001b[0m \u001b[0msh_diag_dotprods\u001b[0m \u001b[0;34m=\u001b[0m \u001b[0mtrain_loop\u001b[0m\u001b[0;34m(\u001b[0m\u001b[0mexperiment\u001b[0m\u001b[0;34m)\u001b[0m\u001b[0;34m\u001b[0m\u001b[0;34m\u001b[0m\u001b[0m\n\u001b[0m\u001b[1;32m     37\u001b[0m \u001b[0;34m\u001b[0m\u001b[0m\n\u001b[1;32m     38\u001b[0m \u001b[0;34m\u001b[0m\u001b[0m\n",
      "\u001b[0;32m<ipython-input-3-f28a4d209862>\u001b[0m in \u001b[0;36mtrain_loop\u001b[0;34m(experiment)\u001b[0m\n\u001b[1;32m     20\u001b[0m         \u001b[0;32mfor\u001b[0m \u001b[0mepoch\u001b[0m \u001b[0;32min\u001b[0m \u001b[0mrange\u001b[0m\u001b[0;34m(\u001b[0m\u001b[0mepochs\u001b[0m\u001b[0;34m)\u001b[0m\u001b[0;34m:\u001b[0m\u001b[0;34m\u001b[0m\u001b[0;34m\u001b[0m\u001b[0m\n\u001b[1;32m     21\u001b[0m             \u001b[0mprint\u001b[0m\u001b[0;34m(\u001b[0m\u001b[0;34m\"training: epoch {}\"\u001b[0m\u001b[0;34m.\u001b[0m\u001b[0mformat\u001b[0m\u001b[0;34m(\u001b[0m\u001b[0mepoch\u001b[0m\u001b[0;34m+\u001b[0m\u001b[0;36m1\u001b[0m\u001b[0;34m)\u001b[0m\u001b[0;34m)\u001b[0m\u001b[0;34m\u001b[0m\u001b[0;34m\u001b[0m\u001b[0m\n\u001b[0;32m---> 22\u001b[0;31m             \u001b[0mexperiment\u001b[0m\u001b[0;34m.\u001b[0m\u001b[0mtrain\u001b[0m\u001b[0;34m(\u001b[0m\u001b[0mepoch\u001b[0m\u001b[0;34m,\u001b[0m \u001b[0mlabel\u001b[0m\u001b[0;34m,\u001b[0m \u001b[0mindices\u001b[0m\u001b[0;34m)\u001b[0m\u001b[0;34m\u001b[0m\u001b[0;34m\u001b[0m\u001b[0m\n\u001b[0m\u001b[1;32m     23\u001b[0m \u001b[0;34m\u001b[0m\u001b[0m\n\u001b[1;32m     24\u001b[0m     \u001b[0;31m#         print(torch.max(torch.abs(experiment.model.output.weight.grad[indices,:])))\u001b[0m\u001b[0;34m\u001b[0m\u001b[0;34m\u001b[0m\u001b[0;34m\u001b[0m\u001b[0m\n",
      "\u001b[0;32m~/nta/nupic.research/projects/continuous_learning/cont_speech_experiment.py\u001b[0m in \u001b[0;36mtrain\u001b[0;34m(self, epoch, training_classes, indices, freeze_grad)\u001b[0m\n\u001b[1;32m    275\u001b[0m                     \u001b[0mfreeze_params\u001b[0m\u001b[0;34m=\u001b[0m\u001b[0mfparams\u001b[0m\u001b[0;34m,\u001b[0m\u001b[0;34m\u001b[0m\u001b[0;34m\u001b[0m\u001b[0m\n\u001b[1;32m    276\u001b[0m                     \u001b[0mfreeze_grad\u001b[0m\u001b[0;34m=\u001b[0m\u001b[0mfreeze_grad\u001b[0m\u001b[0;34m,\u001b[0m\u001b[0;34m\u001b[0m\u001b[0;34m\u001b[0m\u001b[0m\n\u001b[0;32m--> 277\u001b[0;31m                     batches_in_epoch=self.batches_in_epoch)\n\u001b[0m\u001b[1;32m    278\u001b[0m \u001b[0;34m\u001b[0m\u001b[0m\n\u001b[1;32m    279\u001b[0m         \u001b[0moutputs\u001b[0m \u001b[0;34m=\u001b[0m \u001b[0mact\u001b[0m\u001b[0;34m\u001b[0m\u001b[0;34m\u001b[0m\u001b[0m\n",
      "\u001b[0;32m~/nta/nupic.research/projects/continuous_learning/cl_utils.py\u001b[0m in \u001b[0;36mtrain_multi_model\u001b[0;34m(model, loader, optimizer, device, freeze_params, freeze_grad, criterion, batches_in_epoch, pre_batch_callback, post_batch_callback, progress_bar)\u001b[0m\n\u001b[1;32m    129\u001b[0m \u001b[0;34m\u001b[0m\u001b[0m\n\u001b[1;32m    130\u001b[0m         \u001b[0mnum_images\u001b[0m \u001b[0;34m=\u001b[0m \u001b[0mlen\u001b[0m\u001b[0;34m(\u001b[0m\u001b[0mtarget\u001b[0m\u001b[0;34m)\u001b[0m\u001b[0;34m\u001b[0m\u001b[0;34m\u001b[0m\u001b[0m\n\u001b[0;32m--> 131\u001b[0;31m         \u001b[0mdata\u001b[0m \u001b[0;34m=\u001b[0m \u001b[0mdata\u001b[0m\u001b[0;34m.\u001b[0m\u001b[0mto\u001b[0m\u001b[0;34m(\u001b[0m\u001b[0mdevice\u001b[0m\u001b[0;34m,\u001b[0m \u001b[0mnon_blocking\u001b[0m\u001b[0;34m=\u001b[0m\u001b[0masync_gpu\u001b[0m\u001b[0;34m)\u001b[0m\u001b[0;34m\u001b[0m\u001b[0;34m\u001b[0m\u001b[0m\n\u001b[0m\u001b[1;32m    132\u001b[0m         \u001b[0mtarget\u001b[0m \u001b[0;34m=\u001b[0m \u001b[0mtarget\u001b[0m\u001b[0;34m.\u001b[0m\u001b[0mto\u001b[0m\u001b[0;34m(\u001b[0m\u001b[0mdevice\u001b[0m\u001b[0;34m,\u001b[0m \u001b[0mnon_blocking\u001b[0m\u001b[0;34m=\u001b[0m\u001b[0masync_gpu\u001b[0m\u001b[0;34m)\u001b[0m\u001b[0;34m\u001b[0m\u001b[0;34m\u001b[0m\u001b[0m\n\u001b[1;32m    133\u001b[0m         \u001b[0mt1\u001b[0m \u001b[0;34m=\u001b[0m \u001b[0mtime\u001b[0m\u001b[0;34m.\u001b[0m\u001b[0mtime\u001b[0m\u001b[0;34m(\u001b[0m\u001b[0;34m)\u001b[0m\u001b[0;34m\u001b[0m\u001b[0;34m\u001b[0m\u001b[0m\n",
      "\u001b[0;31mKeyboardInterrupt\u001b[0m: "
     ]
    }
   ],
   "source": [
    "data_dir = \"/home/ec2-user/nta/data/data_classes/\"\n",
    "test_dir = \"/home/ec2-user/nta/data/\"\n",
    "config_file = \"../experiments.cfg\"\n",
    "\n",
    "odcorrs = []\n",
    "dcorrs = []\n",
    "oddotproducts = []\n",
    "ddotproducts = []\n",
    "for exp in [\"denseCNN2\", \"sparseCNN2\"]:\n",
    "    config_init = parse_config(config_file)\n",
    "    config = config_init[exp]\n",
    "    config[\"name\"] = exp\n",
    "    config[\"seed\"] = np.random.randint(0,200)\n",
    "    config[\"data_dir\"] = data_dir\n",
    "    config[\"batch_size\"] = 32\n",
    "    config[\"num_classes\"] = 11\n",
    "    \n",
    "    if exp==\"sparseCNN2\" or exp==\"SuperSparseCNN2\":\n",
    "        a = 1\n",
    "        config[\"cnn_weight_sparsity\"] = (a*0.25, a*0.2)\n",
    "        config[\"cnn_percent_on\"] = (a*0.095, a*0.125)\n",
    "\n",
    "    config[\"freeze_params\"] = \"output\"\n",
    "\n",
    "    exp_count = 0\n",
    "\n",
    "#     for boost_off in range(2):\n",
    "#             exp_count += 1\n",
    "\n",
    "#             if boost_off == 1:\n",
    "#                 config[\"boost_strength\"] = 0.0\n",
    "#                 config[\"boost_strength_factor\"] = 0.0\n",
    "\n",
    "    experiment = ContinuousSpeechExperiment(config=config)\n",
    "    \n",
    "    offdiag_corrs, diag_corrs, offdiag_dotprods, diag_dotprods, sh_offdiag_corrs, sh_diag_corrs, sh_offdiag_dotprods, sh_diag_dotprods = train_loop(experiment)\n",
    "\n",
    "\n",
    "    odcorrs.append(offdiag_corrs)\n",
    "    dcorrs.append(diag_corrs)\n",
    "    oddotproducts.append(offdiag_dotprods)\n",
    "    ddotproducts.append(diag_dotprods)\n",
    "    \n",
    "metrics = [odcorrs, dcorrs, oddotproducts, ddotproducts]\n",
    "plot_metrics(metrics)\n",
    "# plt.savefig(\"../plots/corr_quantification_on_offdiags_sequential.pdf\")"
   ]
  },
  {
   "cell_type": "code",
   "execution_count": null,
   "metadata": {},
   "outputs": [],
   "source": []
  },
  {
   "cell_type": "code",
   "execution_count": null,
   "metadata": {},
   "outputs": [],
   "source": []
  },
  {
   "cell_type": "code",
   "execution_count": null,
   "metadata": {},
   "outputs": [],
   "source": []
  },
  {
   "cell_type": "code",
   "execution_count": null,
   "metadata": {},
   "outputs": [],
   "source": [
    "data_dir = \"/home/ec2-user/nta/data/data_classes/\"\n",
    "test_dir = \"/home/ec2-user/nta/data/\"\n",
    "config_file = \"../experiments.cfg\"\n",
    "exp = \"SuperSparseCNN2\"\n",
    "config_init = parse_config(config_file)\n",
    "config = config_init[exp]\n",
    "config[\"name\"] = exp\n",
    "config[\"seed\"] = np.random.randint(0,200)\n",
    "config[\"data_dir\"] = data_dir\n",
    "config[\"batch_size\"] = 32\n",
    "config[\"num_classes\"] = 11\n",
    "\n",
    "config[\"freeze_params\"] = \"output\"\n",
    "\n",
    "exp_count = 0\n",
    "corrs = []\n",
    "dotproducts = []\n",
    "for boost_off in range(2):\n",
    "    for ind in [1,2,4]:\n",
    "        exp_count += 1\n",
    "        \n",
    "        a = 1/ind\n",
    "        config[\"cnn_out_channels\"] = (int(64/a), int(64/a))\n",
    "        config[\"cnn_weight_sparsity\"] = (a*0.25, a*0.2)\n",
    "        config[\"cnn_percent_on\"] = (a*0.047, a*0.125)\n",
    "\n",
    "        if boost_off == 1:\n",
    "            config[\"boost_strength\"] = 0.0\n",
    "            config[\"boost_strength_factor\"] = 0.0\n",
    "\n",
    "        experiment = ContinuousSpeechExperiment(config=config)\n",
    "    \n",
    "        cs, ds = train_loop(experiment)\n",
    "    \n",
    "        corrs.append(cs)\n",
    "        dotproducts.append(ds)"
   ]
  },
  {
   "cell_type": "code",
   "execution_count": 13,
   "metadata": {},
   "outputs": [],
   "source": [
    "np.save(\"../plots/correlations_models_perclass.npy\", corrs)\n",
    "np.save(\"../plots/dotprods_models_perclass.npy\", dotproducts)"
   ]
  },
  {
   "cell_type": "code",
   "execution_count": 3,
   "metadata": {},
   "outputs": [],
   "source": [
    "ccs = np.load(\"../plots/correlations_models_perclass.npy\", allow_pickle=True)\n",
    "dps = np.load(\"../plots/dotprods_models_perclass.npy\", allow_pickle=True)"
   ]
  },
  {
   "cell_type": "code",
   "execution_count": 22,
   "metadata": {},
   "outputs": [],
   "source": [
    "order_ = [0,2,4,6,9,11]\n",
    "\n",
    "fdots = [[dps[0][k] for k in order_],\n",
    "          [dps[2][k] for k in order_],\n",
    "         ]\n",
    "\n",
    "module_keys = [\"cnn1\", \"cnn1_actfn\",\"cnn2\", \"cnn2_actfn\",\"linear1\", \"linear1_actfn\"]"
   ]
  },
  {
   "cell_type": "code",
   "execution_count": 23,
   "metadata": {},
   "outputs": [
    {
     "data": {
      "image/png": "[encoded data removed]",
      "text/plain": [
       "<Figure size 432x288 with 1 Axes>"
      ]
     },
     "metadata": {
      "needs_background": "light"
     },
     "output_type": "display_data"
    }
   ],
   "source": [
    "fig, ax = plt.subplots()\n",
    "\n",
    "[plt.plot(np.log(k), 'o', alpha=0.6) for k in fdots]\n",
    "\n",
    "plt.xticks(range(6), module_keys, rotation=80)\n",
    "plt.ylim((-8.3, 5))\n",
    "plt.title(\"Model comparison: dot product\")\n",
    "plt.axhline([0], color=\"k\", linestyle=\"--\")\n",
    "plt.ylabel(\"log norm. dot product\", fontsize=11)\n",
    "ax.spines['top'].set_visible(False)\n",
    "ax.spines['right'].set_visible(False)\n",
    "plt.legend([\"dense CNN\",\"sparse CNN\"], frameon=False)\n",
    "plt.savefig(\"../plots/permodel_dotprod_perclass_2_v2.pdf\", bbox_inches=\"tight\")"
   ]
  },
  {
   "cell_type": "code",
   "execution_count": 22,
   "metadata": {},
   "outputs": [
    {
     "ename": "ValueError",
     "evalue": "all the input array dimensions for the concatenation axis must match exactly, but along dimension 1, the array at index 0 has size 15 and the array at index 1 has size 14",
     "output_type": "error",
     "traceback": [
      "\u001b[0;31m---------------------------------------------------------------------------\u001b[0m",
      "\u001b[0;31mValueError\u001b[0m                                Traceback (most recent call last)",
      "\u001b[0;32m<ipython-input-22-b79bcb385e48>\u001b[0m in \u001b[0;36m<module>\u001b[0;34m\u001b[0m\n\u001b[0;32m----> 1\u001b[0;31m \u001b[0mtmp\u001b[0m \u001b[0;34m=\u001b[0m \u001b[0mnp\u001b[0m\u001b[0;34m.\u001b[0m\u001b[0mvstack\u001b[0m\u001b[0;34m(\u001b[0m\u001b[0mdotproducts\u001b[0m\u001b[0;34m)\u001b[0m\u001b[0;34m\u001b[0m\u001b[0;34m\u001b[0m\u001b[0m\n\u001b[0m\u001b[1;32m      2\u001b[0m \u001b[0mplt\u001b[0m\u001b[0;34m.\u001b[0m\u001b[0mplot\u001b[0m\u001b[0;34m(\u001b[0m\u001b[0mnp\u001b[0m\u001b[0;34m.\u001b[0m\u001b[0mlog\u001b[0m\u001b[0;34m(\u001b[0m\u001b[0mtmp\u001b[0m\u001b[0;34m[\u001b[0m\u001b[0;34m:\u001b[0m\u001b[0;36m3\u001b[0m\u001b[0;34m,\u001b[0m\u001b[0;34m:\u001b[0m\u001b[0;34m]\u001b[0m\u001b[0;34m)\u001b[0m\u001b[0;34m.\u001b[0m\u001b[0mT\u001b[0m\u001b[0;34m,\u001b[0m\u001b[0;34m'o'\u001b[0m\u001b[0;34m)\u001b[0m\u001b[0;34m\u001b[0m\u001b[0;34m\u001b[0m\u001b[0m\n\u001b[1;32m      3\u001b[0m \u001b[0mplt\u001b[0m\u001b[0;34m.\u001b[0m\u001b[0mxticks\u001b[0m\u001b[0;34m(\u001b[0m\u001b[0mnp\u001b[0m\u001b[0;34m.\u001b[0m\u001b[0marange\u001b[0m\u001b[0;34m(\u001b[0m\u001b[0;36m15\u001b[0m\u001b[0;34m)\u001b[0m\u001b[0;34m,\u001b[0m \u001b[0mall_keys\u001b[0m\u001b[0;34m,\u001b[0m \u001b[0mrotation\u001b[0m\u001b[0;34m=\u001b[0m\u001b[0;36m80\u001b[0m\u001b[0;34m)\u001b[0m\u001b[0;34m;\u001b[0m\u001b[0;34m\u001b[0m\u001b[0;34m\u001b[0m\u001b[0m\n\u001b[1;32m      4\u001b[0m \u001b[0mplt\u001b[0m\u001b[0;34m.\u001b[0m\u001b[0mylabel\u001b[0m\u001b[0;34m(\u001b[0m\u001b[0;34m\"log(normalized dot product)\"\u001b[0m\u001b[0;34m,\u001b[0m \u001b[0mfontsize\u001b[0m\u001b[0;34m=\u001b[0m\u001b[0;36m11\u001b[0m\u001b[0;34m)\u001b[0m\u001b[0;34m\u001b[0m\u001b[0;34m\u001b[0m\u001b[0m\n\u001b[1;32m      5\u001b[0m \u001b[0;31m# plt.ylim((-7, 5))\u001b[0m\u001b[0;34m\u001b[0m\u001b[0;34m\u001b[0m\u001b[0;34m\u001b[0m\u001b[0m\n",
      "\u001b[0;32m<__array_function__ internals>\u001b[0m in \u001b[0;36mvstack\u001b[0;34m(*args, **kwargs)\u001b[0m\n",
      "\u001b[0;32m~/miniconda3/envs/nupic.research/lib/python3.7/site-packages/numpy/core/shape_base.py\u001b[0m in \u001b[0;36mvstack\u001b[0;34m(tup)\u001b[0m\n\u001b[1;32m    281\u001b[0m     \u001b[0;32mif\u001b[0m \u001b[0;32mnot\u001b[0m \u001b[0misinstance\u001b[0m\u001b[0;34m(\u001b[0m\u001b[0marrs\u001b[0m\u001b[0;34m,\u001b[0m \u001b[0mlist\u001b[0m\u001b[0;34m)\u001b[0m\u001b[0;34m:\u001b[0m\u001b[0;34m\u001b[0m\u001b[0;34m\u001b[0m\u001b[0m\n\u001b[1;32m    282\u001b[0m         \u001b[0marrs\u001b[0m \u001b[0;34m=\u001b[0m \u001b[0;34m[\u001b[0m\u001b[0marrs\u001b[0m\u001b[0;34m]\u001b[0m\u001b[0;34m\u001b[0m\u001b[0;34m\u001b[0m\u001b[0m\n\u001b[0;32m--> 283\u001b[0;31m     \u001b[0;32mreturn\u001b[0m \u001b[0m_nx\u001b[0m\u001b[0;34m.\u001b[0m\u001b[0mconcatenate\u001b[0m\u001b[0;34m(\u001b[0m\u001b[0marrs\u001b[0m\u001b[0;34m,\u001b[0m \u001b[0;36m0\u001b[0m\u001b[0;34m)\u001b[0m\u001b[0;34m\u001b[0m\u001b[0;34m\u001b[0m\u001b[0m\n\u001b[0m\u001b[1;32m    284\u001b[0m \u001b[0;34m\u001b[0m\u001b[0m\n\u001b[1;32m    285\u001b[0m \u001b[0;34m\u001b[0m\u001b[0m\n",
      "\u001b[0;32m<__array_function__ internals>\u001b[0m in \u001b[0;36mconcatenate\u001b[0;34m(*args, **kwargs)\u001b[0m\n",
      "\u001b[0;31mValueError\u001b[0m: all the input array dimensions for the concatenation axis must match exactly, but along dimension 1, the array at index 0 has size 15 and the array at index 1 has size 14"
     ]
    }
   ],
   "source": [
    "tmp = np.vstack(dotproducts)\n",
    "plt.plot(np.log(tmp[:3,:]).T,'o')\n",
    "plt.xticks(np.arange(15), all_keys, rotation=80);\n",
    "plt.ylabel(\"log(normalized dot product)\", fontsize=11)\n",
    "# plt.ylim((-7, 5))\n",
    "plt.axhline(0, color='k', linestyle='--')\n",
    "plt.legend(('64', '128', '256'), loc=\"lower right\", title=\"layer size\")\n",
    "plt.title(\"boosting on\")\n",
    "# plt.savefig(\"../plots/size_comp_dotprod.svg\")"
   ]
  },
  {
   "cell_type": "code",
   "execution_count": 157,
   "metadata": {},
   "outputs": [
    {
     "data": {
      "image/png": "[encoded data removed]",
      "text/plain": [
       "<Figure size 432x288 with 1 Axes>"
      ]
     },
     "metadata": {
      "needs_background": "light"
     },
     "output_type": "display_data"
    }
   ],
   "source": [
    "scorrs = np.vstack(corrs)\n",
    "plt.plot((scorrs[:3,:]).T,'o')\n",
    "plt.xticks(np.arange(15), all_keys, rotation=80);\n",
    "plt.ylabel(\"Pearson correlation\", fontsize=11)\n",
    "# plt.ylim((-7, 5))\n",
    "# plt.axhline(0, color='k', linestyle='--')\n",
    "plt.legend(('64', '128', '256'), loc=\"upper center\", title=\"layer size\")\n",
    "plt.title(\"boosting on\")\n",
    "plt.savefig(\"../plots/size_comp_pearson.svg\")"
   ]
  },
  {
   "cell_type": "code",
   "execution_count": 42,
   "metadata": {},
   "outputs": [
    {
     "name": "stderr",
     "output_type": "stream",
     "text": [
      "/home/ec2-user/miniconda3/envs/nupic.research/lib/python3.7/site-packages/matplotlib/text.py:1150: FutureWarning: elementwise comparison failed; returning scalar instead, but in the future will perform elementwise comparison\n",
      "  if s != self._text:\n"
     ]
    },
    {
     "data": {
      "image/png": "[encoded data removed]",
      "text/plain": [
       "<Figure size 432x288 with 1 Axes>"
      ]
     },
     "metadata": {
      "needs_background": "light"
     },
     "output_type": "display_data"
    }
   ],
   "source": [
    "plt.plot(accs,'o')\n",
    "plt.xlabel('class', fontsize=16)\n",
    "plt.ylabel('mean_accuracy', fontsize=16)\n",
    "plt.xticks(range(5),labels=train_labels);\n",
    "# plt.ylim((5.,25.));"
   ]
  },
  {
   "cell_type": "code",
   "execution_count": 43,
   "metadata": {},
   "outputs": [
    {
     "data": {
      "image/png": "[encoded data removed]",
      "text/plain": [
       "<Figure size 432x288 with 2 Axes>"
      ]
     },
     "metadata": {
      "needs_background": "light"
     },
     "output_type": "display_data"
    }
   ],
   "source": [
    "plt.imshow(class_acc, aspect=\"auto\")\n",
    "plt.yticks(range(5),labels=train_labels)\n",
    "plt.xticks(range(10), range(1,11));\n",
    "plt.xlabel(\"class\", fontsize=14)\n",
    "plt.colorbar();"
   ]
  },
  {
   "cell_type": "code",
   "execution_count": 99,
   "metadata": {},
   "outputs": [
    {
     "data": {
      "text/plain": [
       "[<matplotlib.lines.Line2D at 0x7f28b0e61750>]"
      ]
     },
     "execution_count": 99,
     "metadata": {},
     "output_type": "execute_result"
    },
    {
     "data": {
      "image/png": "[encoded data removed]",
      "text/plain": [
       "<Figure size 432x288 with 1 Axes>"
      ]
     },
     "metadata": {
      "needs_background": "light"
     },
     "output_type": "display_data"
    }
   ],
   "source": [
    "plt.plot(c,'o')"
   ]
  },
  {
   "cell_type": "code",
   "execution_count": 10,
   "metadata": {},
   "outputs": [
    {
     "data": {
      "text/plain": [
       "dict_keys(['cnn1_cnn', 'cnn1_bn', 'cnn1_kwinner', 'cnn1_maxpool', 'cnn2_cnn', 'cnn2_bn', 'cnn2_kwinner', 'cnn2_maxpool', 'flatten', 'linear1', 'linear1_bn', 'linear1_kwinners', 'output', 'softmax'])"
      ]
     },
     "execution_count": 10,
     "metadata": {},
     "output_type": "execute_result"
    }
   ],
   "source": [
    "all_keys"
   ]
  },
  {
   "cell_type": "code",
   "execution_count": 9,
   "metadata": {},
   "outputs": [],
   "source": [
    "act = {}\n",
    "def get_act(name):\n",
    "    def hook(model, input_, output):\n",
    "        act[name] = output.detach().cpu().numpy()\n",
    "    return hook\n",
    " \n",
    "cnt = 0\n",
    "layer_list = list(experiment.model.named_children())\n",
    "k = [x[0] for x in layer_list]\n",
    "\n",
    "for module in experiment.model:\n",
    "    module.register_forward_hook(get_act(k[cnt]))\n",
    "    cnt += 1\n",
    "\n",
    "outputs = []\n",
    "for k in range(1,11):\n",
    "    act = {}\n",
    "    loader = experiment.test_loader[k]\n",
    "    x,_ = next(iter(loader))\n",
    "    experiment.model(x.cuda())\n",
    "    outputs.append(act)\n",
    "\n",
    "all_keys = outputs[0].keys()"
   ]
  },
  {
   "cell_type": "code",
   "execution_count": 47,
   "metadata": {},
   "outputs": [],
   "source": [
    "corr_mats = []\n",
    "dot_mats = []\n",
    "\n",
    "for key in all_keys:\n",
    "    mod_output = [np.vstack([outputs[n][key][k,:].flatten() for k in range(experiment.batch_size)])\n",
    "                  for n in range(len(outputs))]\n",
    "\n",
    "    corr_mat = np.zeros((10,10))\n",
    "    iu = np.triu_indices(experiment.batch_size,1)\n",
    "    dot_mat = np.zeros((10,10))\n",
    "    \n",
    "    m_len = mod_output[0].shape[1]\n",
    "\n",
    "    for i in range(10):\n",
    "        for j in range(10):\n",
    "            corr_mat[i,j] = np.corrcoef(mod_output[i], mod_output[j])[iu].mean()\n",
    "            \n",
    "            dot_mat[i,j] = np.mean([np.dot(mod_output[i][x,:],mod_output[j][y,:])/m_len\n",
    "                                    for x in range(experiment.batch_size) for y in range(experiment.batch_size)])\n",
    "            \n",
    "    corr_mats.append(corr_mat)\n",
    "    dot_mats.append(dot_mat)\n",
    "    \n"
   ]
  },
  {
   "cell_type": "code",
   "execution_count": 48,
   "metadata": {},
   "outputs": [
    {
     "data": {
      "text/plain": [
       "<matplotlib.colorbar.Colorbar at 0x7f28afed3950>"
      ]
     },
     "execution_count": 48,
     "metadata": {},
     "output_type": "execute_result"
    },
    {
     "data": {
      "image/png": "[encoded data removed]",
      "text/plain": [
       "<Figure size 432x288 with 2 Axes>"
      ]
     },
     "metadata": {
      "needs_background": "light"
     },
     "output_type": "display_data"
    }
   ],
   "source": [
    "plt.imshow(dot_mat)\n",
    "plt.colorbar()"
   ]
  },
  {
   "cell_type": "code",
   "execution_count": 72,
   "metadata": {},
   "outputs": [
    {
     "data": {
      "text/plain": [
       "66.33581834878804"
      ]
     },
     "execution_count": 72,
     "metadata": {},
     "output_type": "execute_result"
    }
   ],
   "source": [
    "np.triu(dot_mat,0)\n",
    "ids = np.triu_indices(10,0)\n",
    "np.mean(np.triu(dot_mat,0)[ids])"
   ]
  },
  {
   "cell_type": "code",
   "execution_count": 49,
   "metadata": {},
   "outputs": [],
   "source": [
    "ccs = [np.mean(np.triu(k,1)) for k in corr_mats]"
   ]
  },
  {
   "cell_type": "code",
   "execution_count": 50,
   "metadata": {},
   "outputs": [
    {
     "data": {
      "image/png": "[encoded data removed]",
      "text/plain": [
       "<Figure size 576x360 with 1 Axes>"
      ]
     },
     "metadata": {
      "needs_background": "light"
     },
     "output_type": "display_data"
    }
   ],
   "source": [
    "plt.figure(figsize=(8,5))\n",
    "plt.plot(ccs, 'o')\n",
    "plt.xticks(np.arange(15), all_keys, rotation=80);\n",
    "plt.ylim((0., 0.5))\n",
    "plt.ylabel(\"Pearson correlation\")\n",
    "plt.savefig(\"../plots/{}_{}_pearson_2cpe_2pctgrad.jpg\".format(config[\"cnn_out_channels\"][0], config[\"cnn_out_channels\"][1]))"
   ]
  },
  {
   "cell_type": "code",
   "execution_count": 51,
   "metadata": {},
   "outputs": [],
   "source": [
    "ds = [np.mean(np.triu(k,0)) for k in dot_mats]"
   ]
  },
  {
   "cell_type": "code",
   "execution_count": 52,
   "metadata": {},
   "outputs": [
    {
     "data": {
      "image/png": "[encoded data removed]",
      "text/plain": [
       "<Figure size 576x360 with 1 Axes>"
      ]
     },
     "metadata": {
      "needs_background": "light"
     },
     "output_type": "display_data"
    }
   ],
   "source": [
    "plt.figure(figsize=(8,5))\n",
    "plt.plot(np.log(ds), 'o')\n",
    "plt.xticks(np.arange(15), all_keys, rotation=80);\n",
    "plt.ylabel(\"log(normalized dot product)\", fontsize=11)\n",
    "# plt.ylim((-7, 5))\n",
    "plt.axhline(0, color='k', linestyle='--')\n",
    "plt.savefig(\"../plots/{}_{}_dotp_2cpe_2pctgrad.jpg\".format(config[\"cnn_out_channels\"][0], config[\"cnn_out_channels\"][1]))"
   ]
  },
  {
   "cell_type": "code",
   "execution_count": 39,
   "metadata": {},
   "outputs": [],
   "source": [
    "torch.index_select?"
   ]
  },
  {
   "cell_type": "code",
   "execution_count": 86,
   "metadata": {},
   "outputs": [
    {
     "data": {
      "text/plain": [
       "LeSparseNet(\n",
       "  (cnn1_cnn): SparseWeights2d(\n",
       "    weight_sparsity=0.5\n",
       "    (module): Conv2d(1, 64, kernel_size=(5, 5), stride=(1, 1))\n",
       "  )\n",
       "  (cnn1_bn): BatchNorm2d(64, eps=1e-05, momentum=0.1, affine=False, track_running_stats=True)\n",
       "  (cnn1_kwinner): KWinners2d(channels=64, local=False, n=50176, percent_on=0.095, boost_strength=0.8857348561286926, boost_strength_factor=0.9, k_inference_factor=1.0, duty_cycle_period=1000)\n",
       "  (cnn1_maxpool): MaxPool2d(kernel_size=2, stride=2, padding=0, dilation=1, ceil_mode=False)\n",
       "  (cnn2_cnn): SparseWeights2d(\n",
       "    weight_sparsity=0.2\n",
       "    (module): Conv2d(64, 64, kernel_size=(5, 5), stride=(1, 1))\n",
       "  )\n",
       "  (cnn2_bn): BatchNorm2d(64, eps=1e-05, momentum=0.1, affine=False, track_running_stats=True)\n",
       "  (cnn2_kwinner): KWinners2d(channels=64, local=False, n=6400, percent_on=0.125, boost_strength=0.8857348561286926, boost_strength_factor=0.9, k_inference_factor=1.0, duty_cycle_period=1000)\n",
       "  (cnn2_maxpool): MaxPool2d(kernel_size=2, stride=2, padding=0, dilation=1, ceil_mode=False)\n",
       "  (flatten): Flatten()\n",
       "  (linear1): SparseWeights(\n",
       "    weight_sparsity=0.05\n",
       "    (module): Linear(in_features=1600, out_features=1500, bias=True)\n",
       "  )\n",
       "  (linear1_bn): BatchNorm1d(1500, eps=1e-05, momentum=0.1, affine=False, track_running_stats=True)\n",
       "  (linear1_kwinners): KWinners(n=1500, percent_on=0.1, boost_strength=0.8857348561286926, boost_strength_factor=0.9, k_inference_factor=1.0, duty_cycle_period=1000)\n",
       "  (output): Linear(in_features=1500, out_features=11, bias=True)\n",
       "  (softmax): LogSoftmax()\n",
       ")"
      ]
     },
     "execution_count": 86,
     "metadata": {},
     "output_type": "execute_result"
    }
   ],
   "source": [
    "experiment.model"
   ]
  },
  {
   "cell_type": "code",
   "execution_count": 158,
   "metadata": {},
   "outputs": [
    {
     "data": {
      "text/plain": [
       "1"
      ]
     },
     "execution_count": 158,
     "metadata": {},
     "output_type": "execute_result"
    }
   ],
   "source": [
    "1"
   ]
  },
  {
   "cell_type": "code",
   "execution_count": 22,
   "metadata": {},
   "outputs": [],
   "source": [
    "os.mkdir(\"../plots\")"
   ]
  },
  {
   "cell_type": "code",
   "execution_count": 53,
   "metadata": {},
   "outputs": [
    {
     "data": {
      "text/plain": [
       "'output'"
      ]
     },
     "execution_count": 53,
     "metadata": {},
     "output_type": "execute_result"
    }
   ],
   "source": [
    "experiment.freeze_params"
   ]
  },
  {
   "cell_type": "code",
   "execution_count": null,
   "metadata": {},
   "outputs": [],
   "source": []
  }
 ],
 "metadata": {
  "kernelspec": {
   "display_name": "Python 3",
   "language": "python",
   "name": "python3"
  },
  "language_info": {
   "codemirror_mode": {
    "name": "ipython",
    "version": 3
   },
   "file_extension": ".py",
   "mimetype": "text/x-python",
   "name": "python",
   "nbconvert_exporter": "python",
   "pygments_lexer": "ipython3",
   "version": "3.7.6"
  }
 },
 "nbformat": 4,
 "nbformat_minor": 4
}
