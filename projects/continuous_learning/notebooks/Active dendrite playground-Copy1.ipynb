{
 "cells": [
  {
   "cell_type": "code",
   "execution_count": 2,
   "metadata": {},
   "outputs": [
    {
     "name": "stdout",
     "output_type": "stream",
     "text": [
      "The autoreload extension is already loaded. To reload it, use:\n",
      "  %reload_ext autoreload\n"
     ]
    }
   ],
   "source": [
    "%load_ext autoreload\n",
    "%autoreload 2\n",
    "\n",
    "import numpy as np\n",
    "import sys\n",
    "sys.path.append(\"../\")\n",
    "\n",
    "import torch\n",
    "from torch import nn\n",
    "import torch.nn.functional as F\n",
    "\n",
    "from cont_speech_experiment import ContinuousSpeechExperiment, ClasswiseDataset\n",
    "from nupic.research.support import parse_config\n",
    "# from nupic.research.frameworks.pytorch.models.le_sparse_net import (\n",
    "#     LeSparseNet\n",
    "# )\n",
    "from nupic.research.frameworks.continuous_learning.utils import clear_labels\n",
    "from exp_lesparse import LeSparseNet\n",
    "\n",
    "from nupic.torch.modules import (\n",
    "    Flatten,\n",
    "    KWinners,\n",
    "    KWinners2d,\n",
    "    SparseWeights,\n",
    "    SparseWeights2d,\n",
    ")\n",
    "\n",
    "from nupic.research.frameworks.pytorch.model_utils import evaluate_model\n",
    "from nupic.research.frameworks.continuous_learning.dendrite_layers import DendriteLayer, DendriteInput, DendriteOutput\n",
    "# from nupic.research.frameworks.continuous_learning.utils import ADA_fun\n",
    "\n",
    "import matplotlib.pyplot as plt\n",
    "\n",
    "%matplotlib inline"
   ]
  },
  {
   "cell_type": "code",
   "execution_count": 2,
   "metadata": {},
   "outputs": [
    {
     "data": {
      "text/plain": [
       "tensor([[ 4.2825e-02,  4.9733e-04,  1.3175e-04, -2.4124e-02,  2.6152e-03,\n",
       "          4.1738e-02, -5.4527e-04,  2.3421e-02, -2.7123e-01, -1.9934e-01],\n",
       "        [ 1.0092e-01,  2.4786e-04, -5.8615e-04,  4.2249e-02,  7.8171e-02,\n",
       "         -3.1026e-05,  1.1484e-01,  9.2927e-02,  6.3322e-03, -2.5541e-01],\n",
       "        [ 2.3653e-01, -4.8790e-02, -6.3270e-03, -7.1225e-02, -1.6917e-01,\n",
       "         -3.9593e-02,  1.7978e-02,  1.6611e-01,  2.7940e-04,  4.6764e-04],\n",
       "        [ 2.0023e-01,  1.3052e-04,  2.6995e-01,  8.2714e-02, -2.0245e-01,\n",
       "          7.9775e-02, -8.6057e-04, -1.1916e-02, -6.2298e-03, -7.8432e-02],\n",
       "        [-7.3724e-02,  3.8356e-05,  8.1817e-02,  4.1583e-03,  2.3288e-01,\n",
       "         -2.3185e-02,  1.4477e-01, -1.2818e-04, -2.2759e-01, -1.2235e-02],\n",
       "        [-2.5788e-02, -4.6769e-03, -4.3951e-03,  4.8498e-02, -8.9261e-02,\n",
       "         -2.5556e-01,  2.0215e-01, -1.3576e-02, -4.6462e-02, -3.7759e-02],\n",
       "        [ 6.4369e-02, -6.2462e-02, -4.1024e-02,  1.0752e-01,  1.3158e-01,\n",
       "         -6.2238e-02, -7.2190e-04,  4.1988e-02, -1.8472e-01, -1.5860e-02],\n",
       "        [-9.6784e-05,  2.4589e-04, -7.0651e-03, -1.8781e-04,  2.1144e-01,\n",
       "         -9.7659e-02,  1.7353e-01,  2.5284e-02, -7.5051e-02, -2.8511e-01]],\n",
       "       device='cuda:0', grad_fn=<AddmmBackward>)"
      ]
     },
     "execution_count": 2,
     "metadata": {},
     "output_type": "execute_result"
    }
   ],
   "source": [
    "x = torch.randn(8,32).cuda()\n",
    "d = DendriteLayer(32,10, 2).cuda()\n",
    "d(x)"
   ]
  },
  {
   "cell_type": "code",
   "execution_count": 3,
   "metadata": {},
   "outputs": [
    {
     "name": "stdout",
     "output_type": "stream",
     "text": [
      "1.5\n",
      "1.5\n",
      "Creating optimizer with learning rate= 0.05\n"
     ]
    }
   ],
   "source": [
    "config_file = \"../experiments.cfg\"\n",
    "with open(config_file) as cf:\n",
    "    config_init = parse_config(cf)\n",
    "    \n",
    "cnn_pct_on = (0.25, 0.125) # default\n",
    "cnn_weight_sparsity = (0.3, 0.2) # default\n",
    "\n",
    "cnn_out = (64,64)\n",
    "\n",
    "def adjust_sparsity(layer_size, pct_on):\n",
    "    return max(pct_on/(layer_size/64), 0.02)\n",
    "\n",
    "exp = \"sparseCNN2\"\n",
    "config = config_init[exp]\n",
    "config[\"name\"] = exp\n",
    "config[\"seed\"] = np.random.randint(0,200)\n",
    "config[\"cnn_out_channels\"] = (cnn_out[0], cnn_out[1])\n",
    "config[\"cnn_percent_on\"] = (adjust_sparsity(cnn_out[0],cnn_pct_on[0]), adjust_sparsity(cnn_out[1], cnn_pct_on[1]))\n",
    "config[\"cnn_weight_sparsity\"] = (adjust_sparsity(cnn_out[0],cnn_weight_sparsity[0]),\n",
    "                                 adjust_sparsity(cnn_out[1],cnn_weight_sparsity[1]))\n",
    "config[\"batch_size\"] = 32\n",
    "\n",
    "# config[\"boost_strength\"] = 0.0\n",
    "# config[\"boost_strength_factor\"] = 0.0\n",
    "# config[\"duty_cycle_period\"] = 4000\n",
    "\n",
    "experiment = ContinuousSpeechExperiment(config)"
   ]
  },
  {
   "cell_type": "code",
   "execution_count": 3,
   "metadata": {},
   "outputs": [
    {
     "ename": "RuntimeError",
     "evalue": "CUDA error: device-side assert triggered",
     "output_type": "error",
     "traceback": [
      "\u001b[0;31m---------------------------------------------------------------------------\u001b[0m",
      "\u001b[0;31mRuntimeError\u001b[0m                              Traceback (most recent call last)",
      "\u001b[0;32m<ipython-input-3-5b58e502bcc1>\u001b[0m in \u001b[0;36m<module>\u001b[0;34m\u001b[0m\n\u001b[0;32m----> 1\u001b[0;31m \u001b[0mexperiment\u001b[0m\u001b[0;34m.\u001b[0m\u001b[0mtrain_entire_dataset\u001b[0m\u001b[0;34m(\u001b[0m\u001b[0;36m1\u001b[0m\u001b[0;34m)\u001b[0m\u001b[0;34m\u001b[0m\u001b[0;34m\u001b[0m\u001b[0m\n\u001b[0m\u001b[1;32m      2\u001b[0m \u001b[0mexperiment\u001b[0m\u001b[0;34m.\u001b[0m\u001b[0mtest\u001b[0m\u001b[0;34m(\u001b[0m\u001b[0;34m)\u001b[0m\u001b[0;34m\u001b[0m\u001b[0;34m\u001b[0m\u001b[0m\n",
      "\u001b[0;32m~/nta/nupic.research/projects/continuous_learning/cont_speech_experiment.py\u001b[0m in \u001b[0;36mtrain_entire_dataset\u001b[0;34m(self, epoch, indices)\u001b[0m\n\u001b[1;32m    259\u001b[0m         train_model(self.model, self.full_train_loader, self.optimizer, self.device,\n\u001b[1;32m    260\u001b[0m                     \u001b[0mcombine_data\u001b[0m\u001b[0;34m=\u001b[0m\u001b[0mself\u001b[0m\u001b[0;34m.\u001b[0m\u001b[0mcombine_xy\u001b[0m\u001b[0;34m,\u001b[0m \u001b[0mfreeze_params\u001b[0m\u001b[0;34m=\u001b[0m\u001b[0mfparams\u001b[0m\u001b[0;34m,\u001b[0m\u001b[0;34m\u001b[0m\u001b[0;34m\u001b[0m\u001b[0m\n\u001b[0;32m--> 261\u001b[0;31m                     batches_in_epoch=self.batches_in_epoch)\n\u001b[0m\u001b[1;32m    262\u001b[0m \u001b[0;34m\u001b[0m\u001b[0m\n\u001b[1;32m    263\u001b[0m         \u001b[0mself\u001b[0m\u001b[0;34m.\u001b[0m\u001b[0mfull_post_epoch\u001b[0m\u001b[0;34m(\u001b[0m\u001b[0;34m)\u001b[0m\u001b[0;34m\u001b[0m\u001b[0;34m\u001b[0m\u001b[0m\n",
      "\u001b[0;32m~/nta/nupic.research/nupic/research/frameworks/pytorch/model_utils.py\u001b[0m in \u001b[0;36mtrain_model\u001b[0;34m(model, loader, optimizer, device, freeze_params, freeze_fun, freeze_pct, freeze_output, layer_type, linear_number, output_indices, duty_cycles, frozen_dcs, reset_weights, reset_fun, reset_params, criterion, batches_in_epoch, pre_batch_callback, post_batch_callback, progress_bar, combine_data)\u001b[0m\n\u001b[1;32m    117\u001b[0m \u001b[0;34m\u001b[0m\u001b[0m\n\u001b[1;32m    118\u001b[0m         \u001b[0mnum_images\u001b[0m \u001b[0;34m=\u001b[0m \u001b[0mlen\u001b[0m\u001b[0;34m(\u001b[0m\u001b[0mtarget\u001b[0m\u001b[0;34m)\u001b[0m\u001b[0;34m\u001b[0m\u001b[0;34m\u001b[0m\u001b[0m\n\u001b[0;32m--> 119\u001b[0;31m         \u001b[0mdata\u001b[0m \u001b[0;34m=\u001b[0m \u001b[0mdata\u001b[0m\u001b[0;34m.\u001b[0m\u001b[0mto\u001b[0m\u001b[0;34m(\u001b[0m\u001b[0mdevice\u001b[0m\u001b[0;34m,\u001b[0m \u001b[0mnon_blocking\u001b[0m\u001b[0;34m=\u001b[0m\u001b[0masync_gpu\u001b[0m\u001b[0;34m)\u001b[0m\u001b[0;34m\u001b[0m\u001b[0;34m\u001b[0m\u001b[0m\n\u001b[0m\u001b[1;32m    120\u001b[0m         \u001b[0mtarget\u001b[0m \u001b[0;34m=\u001b[0m \u001b[0mtarget\u001b[0m\u001b[0;34m.\u001b[0m\u001b[0mto\u001b[0m\u001b[0;34m(\u001b[0m\u001b[0mdevice\u001b[0m\u001b[0;34m,\u001b[0m \u001b[0mnon_blocking\u001b[0m\u001b[0;34m=\u001b[0m\u001b[0masync_gpu\u001b[0m\u001b[0;34m)\u001b[0m\u001b[0;34m\u001b[0m\u001b[0;34m\u001b[0m\u001b[0m\n\u001b[1;32m    121\u001b[0m         \u001b[0mt1\u001b[0m \u001b[0;34m=\u001b[0m \u001b[0mtime\u001b[0m\u001b[0;34m.\u001b[0m\u001b[0mtime\u001b[0m\u001b[0;34m(\u001b[0m\u001b[0;34m)\u001b[0m\u001b[0;34m\u001b[0m\u001b[0;34m\u001b[0m\u001b[0m\n",
      "\u001b[0;31mRuntimeError\u001b[0m: CUDA error: device-side assert triggered"
     ]
    }
   ],
   "source": [
    "experiment.train_entire_dataset(1)\n",
    "experiment.test()"
   ]
  },
  {
   "cell_type": "code",
   "execution_count": null,
   "metadata": {},
   "outputs": [],
   "source": [
    "train_inds = np.arange(1,11).reshape(5,2)\n",
    "layer_type = \"kwinner\"\n",
    "for j in range(len(train_inds)):\n",
    "    experiment.train(1,train_inds[j],\n",
    "                    freeze_output=False,\n",
    "                    layer_type=layer_type,\n",
    "                    output_indices=clear_labels(train_inds[j]))"
   ]
  },
  {
   "cell_type": "code",
   "execution_count": null,
   "metadata": {},
   "outputs": [],
   "source": [
    "fc = experiment.get_forgetting_curve()\n",
    "plt.imshow(fc)"
   ]
  },
  {
   "cell_type": "code",
   "execution_count": null,
   "metadata": {},
   "outputs": [],
   "source": [
    "plt.plot(fc,'o');"
   ]
  },
  {
   "cell_type": "code",
   "execution_count": 6,
   "metadata": {},
   "outputs": [],
   "source": [
    "a =np.vstack(experiment.running_accuracy)"
   ]
  },
  {
   "cell_type": "code",
   "execution_count": 10,
   "metadata": {},
   "outputs": [
    {
     "data": {
      "image/png": "[encoded data removed]",
      "text/plain": [
       "<Figure size 432x288 with 2 Axes>"
      ]
     },
     "metadata": {
      "needs_background": "light"
     },
     "output_type": "display_data"
    }
   ],
   "source": [
    "plt.imshow(a)\n",
    "plt.colorbar();"
   ]
  },
  {
   "cell_type": "code",
   "execution_count": 8,
   "metadata": {},
   "outputs": [],
   "source": [
    "b = np.vstack([np.roll(a[i,:], 8-2*i) for i in range(a.shape[0])])"
   ]
  },
  {
   "cell_type": "code",
   "execution_count": 9,
   "metadata": {},
   "outputs": [
    {
     "data": {
      "text/plain": [
       "[<matplotlib.lines.Line2D at 0x7f0f21d56710>,\n",
       " <matplotlib.lines.Line2D at 0x7f0f21d56350>,\n",
       " <matplotlib.lines.Line2D at 0x7f0f21d562d0>,\n",
       " <matplotlib.lines.Line2D at 0x7f0f21d56650>,\n",
       " <matplotlib.lines.Line2D at 0x7f0f21d56410>]"
      ]
     },
     "execution_count": 9,
     "metadata": {},
     "output_type": "execute_result"
    },
    {
     "data": {
      "image/png": "[encoded data removed]",
      "text/plain": [
       "<Figure size 432x288 with 1 Axes>"
      ]
     },
     "metadata": {
      "needs_background": "light"
     },
     "output_type": "display_data"
    }
   ],
   "source": [
    "plt.plot(b.T,'o')"
   ]
  },
  {
   "cell_type": "code",
   "execution_count": null,
   "metadata": {},
   "outputs": [],
   "source": [
    "torch.autograd.function"
   ]
  }
 ],
 "metadata": {
  "kernelspec": {
   "display_name": "Python 3",
   "language": "python",
   "name": "python3"
  },
  "language_info": {
   "codemirror_mode": {
    "name": "ipython",
    "version": 3
   },
   "file_extension": ".py",
   "mimetype": "text/x-python",
   "name": "python",
   "nbconvert_exporter": "python",
   "pygments_lexer": "ipython3",
   "version": "3.7.6"
  }
 },
 "nbformat": 4,
 "nbformat_minor": 4
}
