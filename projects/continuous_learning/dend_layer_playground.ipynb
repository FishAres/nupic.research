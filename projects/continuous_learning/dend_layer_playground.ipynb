{
 "cells": [
  {
   "cell_type": "markdown",
   "metadata": {},
   "source": [
    "## Intended for others to play with the code"
   ]
  },
  {
   "cell_type": "code",
   "execution_count": 1,
   "metadata": {},
   "outputs": [],
   "source": [
    "%load_ext autoreload\n",
    "%autoreload 2\n",
    "\n",
    "import numpy as np\n",
    "\n",
    "\n",
    "import torch\n",
    "from torch import nn\n",
    "import torch.nn.functional as F\n",
    "\n",
    "from cont_speech_experiment import ContinuousSpeechExperiment, ClasswiseDataset\n",
    "from nupic.research.support import parse_config\n",
    "\n",
    "from nupic.research.frameworks.continuous_learning.utils import clear_labels, freeze_output_layer\n",
    "from exp_lesparse import LeSparseNet\n",
    "\n",
    "import os\n",
    "\n",
    "from nupic.research.frameworks.pytorch.model_utils import evaluate_model\n",
    "from nupic.research.frameworks.continuous_learning.dendrite_layers import (\n",
    "    DendriteLayer, DendriteInput, DendriteOutput\n",
    ")\n",
    "from nupic.torch.modules import (\n",
    "    Flatten,\n",
    "    KWinners,\n",
    "    KWinners2d,\n",
    "    SparseWeights,\n",
    "    SparseWeights2d,\n",
    ")\n",
    "\n",
    "import matplotlib.pyplot as plt\n",
    "import seaborn as sns\n",
    "\n",
    "%matplotlib inline"
   ]
  },
  {
   "cell_type": "code",
   "execution_count": 3,
   "metadata": {},
   "outputs": [
    {
     "name": "stdout",
     "output_type": "stream",
     "text": [
      "Creating optimizer with learning rate= 0.01\n"
     ]
    }
   ],
   "source": [
    "config_file = \"experiments.cfg\"\n",
    "with open(config_file) as cf:\n",
    "    config_init = parse_config(cf)\n",
    "    \n",
    "exp = \"sparseCNN2\"\n",
    "\n",
    "config = config_init[exp]\n",
    "config[\"name\"] = exp\n",
    "config[\"use_dendrites\"] = True\n",
    "config[\"use_batch_norm\"] = False\n",
    "config[\"cnn_out_channels\"] = (64, 64)\n",
    "config[\"cnn_percent_on\"] = (0.12, 0.07)\n",
    "config[\"cnn_weight_sparsity\"] = (0.15, 0.05)\n",
    "config[\"dendrites_per_cell\"] = 2\n",
    "config[\"batch_size\"] = 64\n",
    "experiment = ContinuousSpeechExperiment(config=config)"
   ]
  },
  {
   "cell_type": "code",
   "execution_count": 3,
   "metadata": {},
   "outputs": [],
   "source": [
    "def get_no_params(model):\n",
    "    model_parameters = filter(lambda p: p.requires_grad, model.parameters())\n",
    "    params = sum([np.prod(p.size()) for p in model_parameters])\n",
    "    return params\n",
    "\n",
    "def clear_labels(labels, n_classes=5):\n",
    "    indices = np.arange(n_classes)\n",
    "    out = np.delete(indices, labels)\n",
    "    return out\n",
    "\n",
    "def reshape_xs(data, target, device=torch.device(\"cuda\"), non_blocking=None):\n",
    "    # for evaluate_model if you flatten the images\n",
    "    batch_size = data.shape[0]\n",
    "    data = data.reshape(batch_size, 32*32).to(device)\n",
    "    target = target.to(device)\n",
    "    return data, target"
   ]
  },
  {
   "cell_type": "code",
   "execution_count": 42,
   "metadata": {},
   "outputs": [],
   "source": [
    "class ToyNetwork(nn.Module):\n",
    "    def __init__(self, dpc=3,\n",
    "                 cnn_w_sparsity=0.05,\n",
    "                 linear_w_sparsity=0.5,\n",
    "                 cat_w_sparsity=0.01,\n",
    "                n_classes=4,\n",
    "                do_cat=False):\n",
    "        super(ToyNetwork, self).__init__()\n",
    "        conv_channels = 128\n",
    "        self.n_classes = n_classes\n",
    "        self.do_cat = do_cat\n",
    "        self.conv1 = SparseWeights2d(nn.Conv2d(in_channels=1,\n",
    "                                              out_channels=conv_channels,\n",
    "                                              kernel_size=10,\n",
    "                                              padding=0,\n",
    "                                              stride=1,), cnn_w_sparsity)\n",
    "        self.kwin1 = KWinners2d(conv_channels, percent_on=0.1)\n",
    "        self.bn = nn.BatchNorm2d(conv_channels, affine=False)\n",
    "        self.mp1 = nn.MaxPool2d(kernel_size=2)\n",
    "        self.flatten = Flatten()\n",
    "        \n",
    "        self.d1 = DendriteLayer(in_dim=int(conv_channels/64)*7744,\n",
    "                               out_dim=1000,\n",
    "                               dendrites_per_neuron=dpc)\n",
    "        \n",
    "        self.linear = SparseWeights(nn.Linear(1000, n_classes+1), linear_w_sparsity)\n",
    "        \n",
    "        if self.do_cat:\n",
    "            self.cat = SparseWeights(nn.Linear(n_classes+1, 1000*dpc), cat_w_sparsity)\n",
    "        \n",
    "    def forward(self, x, label=None, batch_norm=False):\n",
    "        y = self.conv1(x)\n",
    "        if batch_norm:\n",
    "            y = self.bn(y)\n",
    "        y = self.kwin1(self.mp1(y))\n",
    "        y = self.flatten(y)\n",
    "        if (label is not None) and (self.do_cat == True) :\n",
    "            yhat = torch.eye(self.n_classes+1)[label]\n",
    "            y = self.d1(y, torch.sigmoid(self.cat(yhat.cuda())))\n",
    "        else:\n",
    "            y = self.d1(y)\n",
    "        y = F.log_softmax(self.linear(y), dim=1)\n",
    "        return y"
   ]
  },
  {
   "cell_type": "code",
   "execution_count": 47,
   "metadata": {},
   "outputs": [],
   "source": [
    "net = ToyNetwork(dpc=4, cat_w_sparsity=0.01).cuda()"
   ]
  },
  {
   "cell_type": "code",
   "execution_count": 48,
   "metadata": {},
   "outputs": [],
   "source": [
    "opt = torch.optim.Adam(net.parameters(), lr=0.01, weight_decay=0.)\n",
    "criterion = F.nll_loss"
   ]
  },
  {
   "cell_type": "code",
   "execution_count": 49,
   "metadata": {},
   "outputs": [
    {
     "name": "stdout",
     "output_type": "stream",
     "text": [
      "[0.9635416666666666, 0.84375]\n",
      "[0.9765625, 0.7578125]\n"
     ]
    }
   ],
   "source": [
    "train_inds = np.arange(1,5).reshape(2,2)\n",
    "losses = []\n",
    "for i in range(len(train_inds)):\n",
    "    experiment.combine_classes(train_inds[i])\n",
    "    loader = experiment.train_loader\n",
    "    for j, (x, y) in enumerate(loader):\n",
    "        batch_size = x.shape[0]\n",
    "        opt.zero_grad()\n",
    "       \n",
    "        out = net(x.cuda()) #  no categorical projection\n",
    "#         out = net(x.cuda(), y.cuda()) # categorical projection\n",
    "        loss = criterion(out, y.cuda())\n",
    "        loss.backward()\n",
    "        losses.append(loss.detach().cpu().numpy())\n",
    "        \n",
    "        freeze_output_layer(net, clear_labels(train_inds),\n",
    "                           layer_type=\"kwinner\", linear_number='')\n",
    "        \n",
    "        opt.step()\n",
    "    print([evaluate_model(net, experiment.test_loader[k], torch.device(\"cuda\"))[\"mean_accuracy\"]\n",
    "           for k in train_inds[i]])"
   ]
  },
  {
   "cell_type": "code",
   "execution_count": 50,
   "metadata": {},
   "outputs": [
    {
     "data": {
      "text/plain": [
       "[0.0, 0.0, 0.9765625, 0.7578125]"
      ]
     },
     "execution_count": 50,
     "metadata": {},
     "output_type": "execute_result"
    }
   ],
   "source": [
    "# test on each class trained sequentially \n",
    "[evaluate_model(net, experiment.test_loader[k], torch.device(\"cuda\"))[\"mean_accuracy\"] for k in train_inds.flatten()]"
   ]
  },
  {
   "cell_type": "code",
   "execution_count": null,
   "metadata": {},
   "outputs": [],
   "source": []
  },
  {
   "cell_type": "markdown",
   "metadata": {},
   "source": [
    "### Some results"
   ]
  },
  {
   "cell_type": "code",
   "execution_count": 303,
   "metadata": {},
   "outputs": [
    {
     "data": {
      "text/plain": [
       "[0.2808988764044944, 0.04924242424242424, 0.684, 0.0]"
      ]
     },
     "execution_count": 303,
     "metadata": {},
     "output_type": "execute_result"
    }
   ],
   "source": [
    "# Adam, dpc=4, cat sparsity=0.01, output freezing, output_size=5\n",
    "[evaluate_model(net, experiment.test_loader[k], torch.device(\"cuda\"))[\"mean_accuracy\"] for k in train_inds.flatten()]"
   ]
  },
  {
   "cell_type": "code",
   "execution_count": 308,
   "metadata": {},
   "outputs": [
    {
     "data": {
      "text/plain": [
       "[0.0, 0.007575757575757576, 0.872, 0.31048387096774194]"
      ]
     },
     "execution_count": 308,
     "metadata": {},
     "output_type": "execute_result"
    }
   ],
   "source": [
    "# Same\n",
    "[evaluate_model(net, experiment.test_loader[k], torch.device(\"cuda\"))[\"mean_accuracy\"] for k in train_inds.flatten()]"
   ]
  },
  {
   "cell_type": "code",
   "execution_count": 295,
   "metadata": {},
   "outputs": [
    {
     "data": {
      "text/plain": [
       "7.5186314861691"
      ]
     },
     "execution_count": 295,
     "metadata": {},
     "output_type": "execute_result"
    }
   ],
   "source": [
    "np.log10(get_no_params(net))"
   ]
  },
  {
   "cell_type": "code",
   "execution_count": 304,
   "metadata": {},
   "outputs": [
    {
     "data": {
      "text/plain": [
       "[<matplotlib.lines.Line2D at 0x7f4d1ef38f10>]"
      ]
     },
     "execution_count": 304,
     "metadata": {},
     "output_type": "execute_result"
    },
    {
     "data": {
      "image/png": "[encoded data removed]",
      "text/plain": [
       "<Figure size 432x288 with 1 Axes>"
      ]
     },
     "metadata": {
      "needs_background": "light"
     },
     "output_type": "display_data"
    }
   ],
   "source": [
    "plt.plot(losses)"
   ]
  },
  {
   "cell_type": "code",
   "execution_count": 213,
   "metadata": {},
   "outputs": [
    {
     "data": {
      "text/plain": [
       "[0.0, 0.4838709677419355, 0.28, 0.50187265917603]"
      ]
     },
     "execution_count": 213,
     "metadata": {},
     "output_type": "execute_result"
    }
   ],
   "source": [
    "# Adam, dpc=4, tanh cat fn, output freezing, output_size=5\n",
    "[evaluate_model(net, experiment.test_loader[k], torch.device(\"cuda\"))[\"mean_accuracy\"] for k in train_inds.flatten()]"
   ]
  },
  {
   "cell_type": "code",
   "execution_count": 207,
   "metadata": {},
   "outputs": [
    {
     "data": {
      "text/plain": [
       "[0.20973782771535582, 0.0, 0.468, 0.4166666666666667]"
      ]
     },
     "execution_count": 207,
     "metadata": {},
     "output_type": "execute_result"
    }
   ],
   "source": [
    "# Adam, dpc=4, tanh cat fn, no freezing, output_size=5\n",
    "[evaluate_model(net, experiment.test_loader[k], torch.device(\"cuda\"))[\"mean_accuracy\"] for k in train_inds.flatten()]"
   ]
  },
  {
   "cell_type": "code",
   "execution_count": 154,
   "metadata": {},
   "outputs": [
    {
     "data": {
      "text/plain": [
       "[0.0, 0.7651515151515151, 0.0, 0.14516129032258066]"
      ]
     },
     "execution_count": 154,
     "metadata": {},
     "output_type": "execute_result"
    }
   ],
   "source": [
    "# dpc = 1, SGD lr=0.1, # no cat act_fn, no output freezing, output_size=11\n",
    "[evaluate_model(net, experiment.test_loader[k], torch.device(\"cuda\"))[\"mean_accuracy\"] for k in train_inds.flatten()]"
   ]
  },
  {
   "cell_type": "code",
   "execution_count": 155,
   "metadata": {},
   "outputs": [
    {
     "data": {
      "text/plain": [
       "[<matplotlib.lines.Line2D at 0x7f4d1ea9b890>]"
      ]
     },
     "execution_count": 155,
     "metadata": {},
     "output_type": "execute_result"
    },
    {
     "data": {
      "image/png": "[encoded data removed]",
      "text/plain": [
       "<Figure size 432x288 with 1 Axes>"
      ]
     },
     "metadata": {
      "needs_background": "light"
     },
     "output_type": "display_data"
    }
   ],
   "source": [
    "plt.plot(losses)"
   ]
  },
  {
   "cell_type": "code",
   "execution_count": 127,
   "metadata": {},
   "outputs": [
    {
     "data": {
      "text/plain": [
       "[0, 0.616, 0.0, 0.38257575757575757]"
      ]
     },
     "execution_count": 127,
     "metadata": {},
     "output_type": "execute_result"
    }
   ],
   "source": [
    "[evaluate_model(net, experiment.test_loader[k], torch.device(\"cuda\"))[\"mean_accuracy\"] for k in range(4)]"
   ]
  },
  {
   "cell_type": "markdown",
   "metadata": {},
   "source": []
  },
  {
   "cell_type": "code",
   "execution_count": 4,
   "metadata": {},
   "outputs": [],
   "source": [
    "class LinearToyNetwork(nn.Module):\n",
    "    \"\"\" Using dendrite layers for input\n",
    "    Note you will have to adjust the training loop a bit\n",
    "    to accomodate the image flattening\n",
    "    \"\"\"\n",
    "    def __init__(self, dpc=3,\n",
    "                 linear1_w_sparsity=0.5,\n",
    "                 linear2_w_sparsity=0.1,\n",
    "                 cat_w_sparsity=0.01,\n",
    "                n_classes=4,\n",
    "                batch_norm=True):\n",
    "        super(ToyNetwork, self).__init__()\n",
    "        linear1_channels = 1000\n",
    "        linear2_channels=512\n",
    "        self.batch_norm = batch_norm\n",
    "        \n",
    "        self.n_classes = n_classes\n",
    "        self.linear1 = SparseWeights(nn.Linear(32*32, linear1_channels), linear1_w_sparsity)\n",
    "        self.kwin1 = KWinners(linear1_channels, percent_on=0.1)\n",
    "        self.bn = nn.BatchNorm1d(linear1_channels, affine=False)\n",
    "                \n",
    "        self.d0 = DendriteLayer(in_dim=32*32,\n",
    "                               out_dim=linear1_channels,\n",
    "                               dendrites_per_neuron=dpc,\n",
    "                                act_fun_type=\"kwinner\",\n",
    "                               )       \n",
    "        self.d1 = DendriteLayer(in_dim=linear1_channels,\n",
    "                               out_dim=linear2_channels,\n",
    "                               dendrites_per_neuron=dpc,\n",
    "                                act_fun_type=\"kwinner\",\n",
    "                               )\n",
    "        \n",
    "        self.d2 = DendriteLayer(in_dim=linear2_channels,\n",
    "                               out_dim=n_classes+1,\n",
    "                               dendrites_per_neuron=dpc,\n",
    "                               act_fun_type=\"None\",\n",
    "                               )\n",
    "        self.cat = SparseWeights(nn.Linear(n_classes+1, linear1_channels*dpc), cat_w_sparsity)\n",
    "        \n",
    "        self.kwind1 = KWinners(linear2_channels, percent_on=0.1)\n",
    "        self.kwind2 = KWinners(n_classes+1, percent_on=0.1)\n",
    "        \n",
    "    def forward(self, x, label=None, batch_norm=False):\n",
    "#         y = self.linear1(x)\n",
    "        y = self.d0(x)\n",
    "        if self.batch_norm:\n",
    "            y = self.bn(y)\n",
    "        y = self.kwin1(y)\n",
    "        if label is not None:\n",
    "            yhat = torch.eye(self.n_classes+1)[label]\n",
    "            y_ = self.cat(yhat.cuda())\n",
    "            print(y_.shape)\n",
    "            y = self.d1(y, torch.sigmoid(y_))\n",
    "        else:\n",
    "            y = self.d1(y)\n",
    "        \n",
    "        y = self.kwind1(y)\n",
    "        y = self.kwind2(self.d2(y))\n",
    "        y = F.log_softmax(y, dim=1)\n",
    "        return y"
   ]
  }
 ],
 "metadata": {
  "kernelspec": {
   "display_name": "Python 3",
   "language": "python",
   "name": "python3"
  },
  "language_info": {
   "codemirror_mode": {
    "name": "ipython",
    "version": 3
   },
   "file_extension": ".py",
   "mimetype": "text/x-python",
   "name": "python",
   "nbconvert_exporter": "python",
   "pygments_lexer": "ipython3",
   "version": "3.7.6"
  }
 },
 "nbformat": 4,
 "nbformat_minor": 4
}
